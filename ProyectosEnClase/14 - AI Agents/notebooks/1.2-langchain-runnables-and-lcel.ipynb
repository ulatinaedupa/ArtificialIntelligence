{
 "cells": [
  {
   "attachments": {},
   "cell_type": "markdown",
   "metadata": {},
   "source": [
    "- How do we put these 3 chains together as one?\n",
    "\n",
    "- What is a chain under the hood?\n",
    "\n",
    "- Runnables in LangChain"
   ]
  },
  {
   "cell_type": "code",
   "execution_count": 2,
   "metadata": {},
   "outputs": [],
   "source": [
    "from langchain_openai import ChatOpenAI\n",
    "from langchain_core.prompts import ChatPromptTemplate\n",
    "from langchain_core.output_parsers import StrOutputParser\n",
    "from IPython.display import Markdown"
   ]
  },
  {
   "cell_type": "code",
   "execution_count": 3,
   "metadata": {},
   "outputs": [],
   "source": [
    "import os \n",
    "\n",
    "os.environ['OPENAI_API_KEY'] = 'API_KEY'"
   ]
  },
  {
   "cell_type": "code",
   "execution_count": 4,
   "metadata": {},
   "outputs": [],
   "source": [
    "WRITER_SYS_MSG = \"\"\"\n",
    "You are a research assistant and a scientific writer.\n",
    "You take in requests about tpics and write organized research reprts on those topics.\n",
    "\"\"\"\n",
    "\n",
    "prompt = ChatPromptTemplate.from_messages([\n",
    "    ('system', WRITER_SYS_MSG),\n",
    "    ('human', 'Write an organized research report about this topic:\\n\\n{topic}.')\n",
    "])\n",
    "\n",
    "llm = ChatOpenAI(model='gpt-4o-mini', temperature=0)\n",
    "\n",
    "output_parser = StrOutputParser()\n",
    "\n",
    "writer_chain = prompt | llm | output_parser"
   ]
  },
  {
   "cell_type": "code",
   "execution_count": 5,
   "metadata": {},
   "outputs": [],
   "source": [
    "REVIEWER_SYS_MSG = \"\"\"\n",
    "You are a reviewer for research reports. You take in research reports and provide feecback on them.\n",
    "\"\"\"\n",
    "\n",
    "prompt_reviewer = ChatPromptTemplate.from_messages([\n",
    "    ('system', REVIEWER_SYS_MSG),\n",
    "    ('human', 'Provide feedback on this research report:\\n\\n{report}. As 5 concise bullet points.')\n",
    "])\n",
    "\n",
    "llm_reviewer = ChatOpenAI(model='gpt-4o-mini', temperature=0.2)\n",
    "\n",
    "review_chain = prompt_reviewer | llm_reviewer | output_parser"
   ]
  },
  {
   "cell_type": "code",
   "execution_count": 6,
   "metadata": {},
   "outputs": [],
   "source": [
    "FINAL_WRITER_SYS_MSG = \"\"\"\n",
    "You take in a research report and a set of bullet points with feedback to improve,\n",
    "and you revise the research report based on the feedback and write a final version.\n",
    "\"\"\"\n",
    "\n",
    "prompt_final_writer = ChatPromptTemplate.from_messages(\n",
    "    [\n",
    "        ('system', FINAL_WRITER_SYS_MSG),\n",
    "        ('human', 'Write a reviewed and improved version of this research report:\\n\\n{report}, based on this feedback:\\n\\n{feedback}.')\n",
    "    ]\n",
    ")\n",
    "llm_final_writer = ChatOpenAI(model='gpt-4o-mini', temperature=0.2)\n",
    "chain_final_writer = prompt_final_writer | llm_final_writer | output_parser"
   ]
  },
  {
   "cell_type": "code",
   "execution_count": 7,
   "metadata": {},
   "outputs": [
    {
     "data": {
      "text/plain": [
       "langchain_core.runnables.base.RunnableSequence"
      ]
     },
     "execution_count": 7,
     "metadata": {},
     "output_type": "execute_result"
    }
   ],
   "source": [
    "type(writer_chain)"
   ]
  },
  {
   "cell_type": "code",
   "execution_count": 8,
   "metadata": {},
   "outputs": [
    {
     "data": {
      "text/plain": [
       "langchain_core.runnables.base.RunnableSequence"
      ]
     },
     "execution_count": 8,
     "metadata": {},
     "output_type": "execute_result"
    }
   ],
   "source": [
    "type(review_chain)"
   ]
  },
  {
   "cell_type": "code",
   "execution_count": 9,
   "metadata": {},
   "outputs": [
    {
     "data": {
      "text/plain": [
       "langchain_core.runnables.base.RunnableSequence"
      ]
     },
     "execution_count": 9,
     "metadata": {},
     "output_type": "execute_result"
    }
   ],
   "source": [
    "type(chain_final_writer)"
   ]
  },
  {
   "attachments": {},
   "cell_type": "markdown",
   "metadata": {},
   "source": [
    "What is a runnable sequence?"
   ]
  },
  {
   "cell_type": "code",
   "execution_count": 10,
   "metadata": {},
   "outputs": [],
   "source": [
    "from langchain_core.runnables import RunnableSequence, RunnableLambda"
   ]
  },
  {
   "cell_type": "code",
   "execution_count": 11,
   "metadata": {},
   "outputs": [
    {
     "data": {
      "text/plain": [
       "16"
      ]
     },
     "execution_count": 11,
     "metadata": {},
     "output_type": "execute_result"
    }
   ],
   "source": [
    "# What is a RunnableSequence?\n",
    "# A sequence of Runnables\n",
    "# What is a Runnable?\n",
    "# Something you can run. Object with standard methods like, invoke, batch, etc...\n",
    "# You can compose these objects together to create a pipeline of operations.\n",
    "\n",
    "def sum_x_to_x(x: int) -> int:\n",
    "    return x + x # 2+2= 4\n",
    "\n",
    "def multiply_x_by_x(x: int) -> int:\n",
    "    return x * x # 4*4 = 16\n",
    "\n",
    "\n",
    "runnable_1 = RunnableLambda(sum_x_to_x)\n",
    "runnable_2 = RunnableLambda(multiply_x_by_x)\n",
    "\n",
    "runnable_sequence = RunnableSequence(first=runnable_1, last=runnable_2)\n",
    "\n",
    "runnable_sequence.invoke(2)"
   ]
  },
  {
   "cell_type": "code",
   "execution_count": 10,
   "metadata": {},
   "outputs": [],
   "source": [
    "# writer_chain + review_chain + final_writer_chain"
   ]
  },
  {
   "cell_type": "code",
   "execution_count": 12,
   "metadata": {},
   "outputs": [],
   "source": [
    "from langchain_core.runnables import RunnablePassthrough"
   ]
  },
  {
   "cell_type": "code",
   "execution_count": 13,
   "metadata": {},
   "outputs": [
    {
     "data": {
      "text/markdown": [
       "# Research Report: Using AI for Personal Productivity\n",
       "\n",
       "## Abstract\n",
       "The integration of Artificial Intelligence (AI) into personal productivity tools has revolutionized how individuals manage their time, tasks, and overall efficiency. This report explores the diverse applications of AI in enhancing personal productivity, the associated benefits and challenges, and future trends in this rapidly evolving field. By examining recent advancements and user experiences, this report aims to provide a comprehensive understanding of AI's role in personal productivity.\n",
       "\n",
       "## 1. Introduction\n",
       "Personal productivity refers to an individual's ability to effectively manage time and resources to achieve personal and professional goals. The advent of AI technologies has significantly transformed productivity approaches. AI tools can automate mundane tasks, provide actionable insights through data analysis, and enhance decision-making processes, ultimately leading to improved productivity outcomes.\n",
       "\n",
       "## 2. Applications of AI in Personal Productivity\n",
       "\n",
       "### 2.1 Task Management\n",
       "AI-powered task management applications, such as Todoist and Trello, utilize sophisticated algorithms to prioritize tasks based on deadlines, importance, and user behavior. These tools not only suggest optimal schedules but also send reminders for upcoming deadlines, thereby alleviating cognitive load and enhancing task completion rates.\n",
       "\n",
       "### 2.2 Time Management\n",
       "AI tools like Clockify and RescueTime analyze user activity patterns to provide insights into productivity. By identifying time-wasting activities, these applications empower users to allocate their time more effectively, fostering a more productive work environment.\n",
       "\n",
       "### 2.3 Virtual Assistants\n",
       "AI-driven virtual assistants, including Google Assistant, Siri, and Alexa, perform a variety of tasks such as setting reminders, scheduling appointments, and answering queries. These assistants streamline daily routines, allowing users to focus on more critical tasks and enhancing overall productivity.\n",
       "\n",
       "### 2.4 Email Management\n",
       "AI tools like SaneBox and Google's Smart Compose leverage machine learning to filter emails, prioritize important messages, and even draft responses. This automation reduces the time spent on email management, enabling users to concentrate on more pressing responsibilities.\n",
       "\n",
       "### 2.5 Focus and Motivation\n",
       "AI applications such as Focus@Will and Brain.fm utilize algorithms to create personalized music and soundscapes that enhance concentration and productivity. By leveraging neuroscience principles, these tools help users maintain focus during work sessions, ultimately improving output.\n",
       "\n",
       "## 3. Benefits of Using AI for Personal Productivity\n",
       "\n",
       "### 3.1 Increased Efficiency\n",
       "AI tools automate repetitive tasks, allowing users to devote more time to high-value activities. This leads to improved efficiency and productivity, as users can focus on strategic initiatives rather than mundane chores.\n",
       "\n",
       "### 3.2 Enhanced Decision-Making\n",
       "AI's ability to analyze vast amounts of data quickly provides users with insights that inform better decision-making. This capability is particularly beneficial in project management and strategic planning, where timely and informed decisions are crucial.\n",
       "\n",
       "### 3.3 Personalization\n",
       "AI applications learn from user behavior and preferences, offering personalized recommendations that align with individual productivity styles. This tailored approach enhances user experience and effectiveness.\n",
       "\n",
       "### 3.4 Reduced Stress\n",
       "By automating routine tasks and providing timely reminders, AI tools help mitigate the stress associated with managing multiple responsibilities. This reduction in cognitive load can lead to improved mental well-being.\n",
       "\n",
       "## 4. Challenges and Considerations\n",
       "\n",
       "### 4.1 Dependence on Technology\n",
       "While AI tools offer significant advantages, over-reliance may lead to a decline in critical thinking and problem-solving skills. Users must strike a balance between leveraging AI and maintaining their cognitive abilities to ensure continued personal growth.\n",
       "\n",
       "### 4.2 Privacy Concerns\n",
       "The use of AI often involves extensive data collection, raising concerns about privacy and data security. Users must be vigilant about how their data is utilized and take proactive measures to protect their information.\n",
       "\n",
       "### 4.3 Learning Curve\n",
       "Some AI tools may present a steep learning curve, which can deter users from fully utilizing their features. Effective onboarding processes and user support are essential for maximizing the benefits of these tools.\n",
       "\n",
       "### 4.4 Ethical Considerations\n",
       "As AI continues to evolve, ethical considerations surrounding its use, such as bias in algorithms and the implications of automation on employment, must be addressed to ensure responsible implementation.\n",
       "\n",
       "## 5. Future Trends\n",
       "\n",
       "### 5.1 Integration with Other Technologies\n",
       "The future of AI in personal productivity will likely see greater integration with other technologies, such as the Internet of Things (IoT) and augmented reality (AR), creating more seamless and efficient workflows that enhance user experience.\n",
       "\n",
       "### 5.2 Advanced Personalization\n",
       "As AI algorithms become more sophisticated, tools will offer even more personalized experiences, adapting to individual work habits and preferences in real-time, thereby maximizing productivity.\n",
       "\n",
       "### 5.3 Focus on Mental Health\n",
       "There is a growing recognition of the importance of mental health in productivity. Future AI tools may incorporate features that promote well-being, such as mindfulness reminders and stress management techniques, fostering a healthier work-life balance.\n",
       "\n",
       "## 6. Conclusion\n",
       "AI has the potential to significantly enhance personal productivity by automating tasks, providing insights, and personalizing user experiences. While challenges such as dependence on technology and privacy concerns must be addressed, the benefits of using AI tools are substantial. As technology continues to evolve, individuals can expect innovative solutions that will further assist them in achieving their productivity goals.\n",
       "\n",
       "## References\n",
       "- Allen, D. (2015). *Getting Things Done: The Art of Stress-Free Productivity*. Penguin Books.\n",
       "- Duhigg, C. (2012). *The Power of Habit: Why We Do What We Do in Life and Business*. Random House.\n",
       "- McKinsey Global Institute. (2021). *The Future of Work: Reskilling and Remote Work*. McKinsey & Company.\n",
       "- Rosen, L. D., & Lim, A. F. (2011). *An Examination of the Relationship Between Cell Phone Use and Academic Performance in a Sample of U.S. College Students*. *SAGE Open*, 1(1).\n",
       "- Smith, J. (2023). *AI in Productivity: Trends and Insights*. Journal of Technology and Productivity, 12(3), 45-67.\n",
       "- Johnson, R. (2022). *The Impact of AI on Workplace Efficiency*. International Journal of Business Management, 15(4), 78-92.\n",
       "\n",
       "This revised report provides a comprehensive overview of the role of AI in personal productivity, highlighting its applications, benefits, challenges, and future trends, while addressing the feedback for clarity, depth, and recent developments in the field."
      ],
      "text/plain": [
       "<IPython.core.display.Markdown object>"
      ]
     },
     "execution_count": 13,
     "metadata": {},
     "output_type": "execute_result"
    }
   ],
   "source": [
    "composed_chain = {'report': writer_chain} | RunnablePassthrough().assign(feedback=review_chain) | chain_final_writer\n",
    "\n",
    "output_final_report = composed_chain.invoke({'topic': 'Using AI for personal productivity.'})\n",
    "\n",
    "Markdown(output_final_report)"
   ]
  },
  {
   "attachments": {},
   "cell_type": "markdown",
   "metadata": {},
   "source": [
    "Is there a runnable to help me assign keys that route inputs and outputs for these intermediary\n",
    "artifacts that I am generating within my big chain?"
   ]
  },
  {
   "cell_type": "code",
   "execution_count": 14,
   "metadata": {},
   "outputs": [
    {
     "data": {
      "text/markdown": [
       "# Research Report: Using AI for Personal Productivity\n",
       "\n",
       "## Abstract\n",
       "The integration of Artificial Intelligence (AI) into personal productivity tools has significantly transformed how individuals manage their time, tasks, and overall efficiency. This report explores the various applications of AI in enhancing personal productivity, the benefits and challenges associated with its use, and future trends in this rapidly evolving field. By examining recent advancements and studies, we aim to provide a comprehensive understanding of AI's impact on personal productivity.\n",
       "\n",
       "## 1. Introduction\n",
       "Personal productivity refers to an individual's ability to effectively manage their time and resources to achieve personal and professional goals. With the advent of AI technologies, there has been a notable shift in how individuals approach productivity. AI tools can automate mundane tasks, provide insights through data analysis, and enhance decision-making processes, ultimately leading to improved outcomes.\n",
       "\n",
       "## 2. Applications of AI in Personal Productivity\n",
       "\n",
       "### 2.1 Task Management\n",
       "AI-powered task management applications, such as Todoist and Trello, utilize algorithms to prioritize tasks based on deadlines, importance, and user behavior. These tools can suggest optimal schedules and remind users of upcoming deadlines, thereby reducing cognitive load and enhancing task completion rates.\n",
       "\n",
       "### 2.2 Time Management\n",
       "AI tools like Clockify and RescueTime analyze how users spend their time and provide insights into productivity patterns. By identifying time-wasting activities, these applications help users allocate their time more effectively, leading to better work-life balance.\n",
       "\n",
       "### 2.3 Virtual Assistants\n",
       "AI-driven virtual assistants, such as Google Assistant, Siri, and Alexa, can perform a variety of tasks, including setting reminders, scheduling appointments, and answering queries. These assistants streamline daily routines and free up time for more critical tasks, enhancing overall productivity.\n",
       "\n",
       "### 2.4 Email Management\n",
       "AI tools like SaneBox and Google's Smart Compose leverage machine learning to filter emails, prioritize important messages, and even draft responses. This reduces the time spent on email management, allowing users to focus on more pressing tasks and improving communication efficiency.\n",
       "\n",
       "### 2.5 Focus and Concentration\n",
       "AI applications such as Focus@Will and Brain.fm use algorithms to create personalized music and soundscapes that enhance concentration and productivity. These tools adapt to user preferences and work patterns, optimizing focus and minimizing distractions.\n",
       "\n",
       "## 3. Benefits of Using AI for Personal Productivity\n",
       "\n",
       "### 3.1 Increased Efficiency\n",
       "AI tools automate repetitive tasks, allowing individuals to concentrate on higher-value activities. This leads to improved efficiency and productivity, enabling users to accomplish more in less time.\n",
       "\n",
       "### 3.2 Enhanced Decision-Making\n",
       "AI can analyze vast amounts of data quickly, providing users with insights that inform better decision-making. This capability is particularly useful in project management and strategic planning, where timely and informed decisions are crucial.\n",
       "\n",
       "### 3.3 Personalization\n",
       "AI applications can learn from user behavior and preferences, offering personalized recommendations that align with individual productivity styles. This customization enhances user experience and effectiveness.\n",
       "\n",
       "### 3.4 Reduced Stress\n",
       "By automating tasks and providing reminders, AI tools can help alleviate the stress associated with managing multiple responsibilities. This contributes to improved mental well-being and work satisfaction.\n",
       "\n",
       "## 4. Challenges and Limitations\n",
       "\n",
       "### 4.1 Dependence on Technology\n",
       "Over-reliance on AI tools may lead to a decline in critical thinking and problem-solving skills. Users may become too dependent on technology for decision-making, potentially hindering their ability to function independently.\n",
       "\n",
       "### 4.2 Privacy Concerns\n",
       "The use of AI often involves data collection, raising concerns about privacy and data security. Users must be cautious about the information they share with AI applications, as breaches can have serious implications.\n",
       "\n",
       "### 4.3 Implementation Costs\n",
       "While many AI tools are available for free, advanced features often come at a cost. Small businesses and individuals may find it challenging to invest in premium productivity tools, limiting access to beneficial resources.\n",
       "\n",
       "### 4.4 Learning Curve\n",
       "Some users may face difficulties in adapting to new AI tools, which can hinder their productivity rather than enhance it. Effective training and support are essential for successful implementation.\n",
       "\n",
       "## 5. Future Trends\n",
       "\n",
       "### 5.1 Integration with Other Technologies\n",
       "The future of AI in personal productivity will likely see greater integration with other technologies, such as the Internet of Things (IoT) and augmented reality (AR), creating more seamless and efficient workflows that enhance user experience.\n",
       "\n",
       "### 5.2 Advanced Personalization\n",
       "As AI algorithms become more sophisticated, tools will offer even more personalized experiences, adapting to individual work habits and preferences in real-time. This will further enhance productivity and user satisfaction.\n",
       "\n",
       "### 5.3 Focus on Mental Well-being\n",
       "Future AI productivity tools may increasingly incorporate features that promote mental well-being, such as mindfulness reminders and stress management techniques, recognizing the importance of mental health in productivity.\n",
       "\n",
       "## 6. Conclusion\n",
       "The use of AI in personal productivity presents numerous opportunities for individuals to enhance their efficiency and effectiveness. While there are challenges to consider, the benefits of AI tools in managing tasks, time, and focus are significant. As technology continues to evolve, the potential for AI to further transform personal productivity is immense, paving the way for more innovative solutions in the future.\n",
       "\n",
       "## References\n",
       "- Allen, D. (2015). *Getting Things Done: The Art of Stress-Free Productivity*. Penguin Books.\n",
       "- Duhigg, C. (2012). *The Power of Habit: Why We Do What We Do in Life and Business*. Random House.\n",
       "- McKinsey Global Institute. (2021). *The Future of Work: Reskilling and Remote Work*. McKinsey & Company.\n",
       "- Rosen, L. D., & Lim, AF. (2011). *An Examination of the Relationship Between Cell Phone Use and Academic Performance in a Sample of U.S. College Students*. *SAGE Open*, 1(1).\n",
       "- Smith, J. (2023). *The Role of AI in Enhancing Workplace Productivity: A Comprehensive Review*. *Journal of Business Research*, 145, 123-135.\n",
       "- Johnson, R. (2022). *Privacy in the Age of AI: Balancing Innovation and Security*. *Cybersecurity Review*, 10(2), 45-60.\n",
       "\n",
       "This revised report provides a comprehensive overview of the role of AI in personal productivity, highlighting its applications, benefits, challenges, and future trends, while incorporating recent studies to enhance its contemporary relevance."
      ],
      "text/plain": [
       "<IPython.core.display.Markdown object>"
      ]
     },
     "execution_count": 14,
     "metadata": {},
     "output_type": "execute_result"
    }
   ],
   "source": [
    "composed_chain = RunnablePassthrough().assign(report=writer_chain) | RunnablePassthrough().assign(feedback=review_chain) | chain_final_writer\n",
    "\n",
    "output_final_report = composed_chain.invoke({'topic': 'Using AI for personal productivity.'})\n",
    "Markdown(output_final_report)"
   ]
  }
 ],
 "metadata": {
  "kernelspec": {
   "display_name": "gpt",
   "language": "python",
   "name": "python3"
  },
  "language_info": {
   "codemirror_mode": {
    "name": "ipython",
    "version": 3
   },
   "file_extension": ".py",
   "mimetype": "text/x-python",
   "name": "python",
   "nbconvert_exporter": "python",
   "pygments_lexer": "ipython3",
   "version": "3.9.19"
  }
 },
 "nbformat": 4,
 "nbformat_minor": 2
}
