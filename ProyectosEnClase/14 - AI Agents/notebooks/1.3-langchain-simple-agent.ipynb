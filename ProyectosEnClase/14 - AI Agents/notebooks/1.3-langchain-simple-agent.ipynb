{
 "cells": [
  {
   "cell_type": "code",
   "execution_count": 18,
   "metadata": {},
   "outputs": [],
   "source": [
    "import warnings\n",
    "\n",
    "warnings.filterwarnings(\"ignore\")"
   ]
  },
  {
   "cell_type": "code",
   "execution_count": 19,
   "metadata": {},
   "outputs": [
    {
     "data": {
      "text/plain": [
       "ChatPromptTemplate(input_variables=['agent_scratchpad', 'input'], optional_variables=['chat_history'], input_types={'chat_history': list[typing.Annotated[typing.Union[typing.Annotated[langchain_core.messages.ai.AIMessage, Tag(tag='ai')], typing.Annotated[langchain_core.messages.human.HumanMessage, Tag(tag='human')], typing.Annotated[langchain_core.messages.chat.ChatMessage, Tag(tag='chat')], typing.Annotated[langchain_core.messages.system.SystemMessage, Tag(tag='system')], typing.Annotated[langchain_core.messages.function.FunctionMessage, Tag(tag='function')], typing.Annotated[langchain_core.messages.tool.ToolMessage, Tag(tag='tool')], typing.Annotated[langchain_core.messages.ai.AIMessageChunk, Tag(tag='AIMessageChunk')], typing.Annotated[langchain_core.messages.human.HumanMessageChunk, Tag(tag='HumanMessageChunk')], typing.Annotated[langchain_core.messages.chat.ChatMessageChunk, Tag(tag='ChatMessageChunk')], typing.Annotated[langchain_core.messages.system.SystemMessageChunk, Tag(tag='SystemMessageChunk')], typing.Annotated[langchain_core.messages.function.FunctionMessageChunk, Tag(tag='FunctionMessageChunk')], typing.Annotated[langchain_core.messages.tool.ToolMessageChunk, Tag(tag='ToolMessageChunk')]], FieldInfo(annotation=NoneType, required=True, discriminator=Discriminator(discriminator=<function _get_type at 0x0000021176C16670>, custom_error_type=None, custom_error_message=None, custom_error_context=None))]], 'agent_scratchpad': list[typing.Annotated[typing.Union[typing.Annotated[langchain_core.messages.ai.AIMessage, Tag(tag='ai')], typing.Annotated[langchain_core.messages.human.HumanMessage, Tag(tag='human')], typing.Annotated[langchain_core.messages.chat.ChatMessage, Tag(tag='chat')], typing.Annotated[langchain_core.messages.system.SystemMessage, Tag(tag='system')], typing.Annotated[langchain_core.messages.function.FunctionMessage, Tag(tag='function')], typing.Annotated[langchain_core.messages.tool.ToolMessage, Tag(tag='tool')], typing.Annotated[langchain_core.messages.ai.AIMessageChunk, Tag(tag='AIMessageChunk')], typing.Annotated[langchain_core.messages.human.HumanMessageChunk, Tag(tag='HumanMessageChunk')], typing.Annotated[langchain_core.messages.chat.ChatMessageChunk, Tag(tag='ChatMessageChunk')], typing.Annotated[langchain_core.messages.system.SystemMessageChunk, Tag(tag='SystemMessageChunk')], typing.Annotated[langchain_core.messages.function.FunctionMessageChunk, Tag(tag='FunctionMessageChunk')], typing.Annotated[langchain_core.messages.tool.ToolMessageChunk, Tag(tag='ToolMessageChunk')]], FieldInfo(annotation=NoneType, required=True, discriminator=Discriminator(discriminator=<function _get_type at 0x0000021176C16670>, custom_error_type=None, custom_error_message=None, custom_error_context=None))]]}, partial_variables={'chat_history': []}, metadata={'lc_hub_owner': 'hwchase17', 'lc_hub_repo': 'openai-tools-agent', 'lc_hub_commit_hash': 'c18672812789a3b9697656dd539edf0120285dcae36396d0b548ae42a4ed66f5'}, messages=[SystemMessagePromptTemplate(prompt=PromptTemplate(input_variables=[], input_types={}, partial_variables={}, template='You are a helpful assistant'), additional_kwargs={}), MessagesPlaceholder(variable_name='chat_history', optional=True), HumanMessagePromptTemplate(prompt=PromptTemplate(input_variables=['input'], input_types={}, partial_variables={}, template='{input}'), additional_kwargs={}), MessagesPlaceholder(variable_name='agent_scratchpad')])"
      ]
     },
     "execution_count": 19,
     "metadata": {},
     "output_type": "execute_result"
    }
   ],
   "source": [
    "from langchain import hub\n",
    "\n",
    "prompt_agent = hub.pull('hwchase17/openai-tools-agent')\n",
    "\n",
    "prompt_agent"
   ]
  },
  {
   "cell_type": "code",
   "execution_count": 20,
   "metadata": {},
   "outputs": [
    {
     "data": {
      "text/plain": [
       "AIMessage(content='Hello! How can I assist you today?', additional_kwargs={'refusal': None}, response_metadata={'token_usage': {'completion_tokens': 9, 'prompt_tokens': 8, 'total_tokens': 17, 'completion_tokens_details': {'audio_tokens': None, 'reasoning_tokens': 0}, 'prompt_tokens_details': {'audio_tokens': None, 'cached_tokens': 0}}, 'model_name': 'gpt-4o-mini-2024-07-18', 'system_fingerprint': 'fp_f59a81427f', 'finish_reason': 'stop', 'logprobs': None}, id='run-88366d68-399a-49a3-a824-34dae1ab62c5-0', usage_metadata={'input_tokens': 8, 'output_tokens': 9, 'total_tokens': 17, 'input_token_details': {'cache_read': 0}, 'output_token_details': {'reasoning': 0}})"
      ]
     },
     "execution_count": 20,
     "metadata": {},
     "output_type": "execute_result"
    }
   ],
   "source": [
    "from langchain_openai import ChatOpenAI\n",
    "import os\n",
    "\n",
    "os.environ['OPENAI_API_KEY'] = 'API_KEY'\n",
    "\n",
    "llm = ChatOpenAI(model='gpt-4o-mini', temperature=0)\n",
    "\n",
    "llm.invoke(\"HI\")"
   ]
  },
  {
   "attachments": {},
   "cell_type": "markdown",
   "metadata": {},
   "source": [
    "Agent = LLM + Tools"
   ]
  },
  {
   "cell_type": "code",
   "execution_count": 21,
   "metadata": {},
   "outputs": [
    {
     "data": {
      "text/plain": [
       "' El volumen de la unidad C es OS\\r\\n El número de serie del volumen es: CE4B-7E93\\r\\n\\r\\n Directorio de c:\\\\Users\\\\Denys\\\\Downloads\\\\vidhya-agents-course-main\\\\notebooks\\r\\n\\r\\n09/09/2024  08:05 a.\\xa0m.    <DIR>          .\\r\\n09/09/2024  08:05 a.\\xa0m.    <DIR>          ..\\r\\n10/30/2024  12:44 a.\\xa0m.             9,120 1.0-langchain-basics.ipynb\\r\\n10/30/2024  12:43 a.\\xa0m.            20,962 1.1-langchain-simple-chains.ipynb\\r\\n10/30/2024  12:50 a.\\xa0m.            23,508 1.2-langchain-runnables-and-lcel.ipynb\\r\\n09/09/2024  08:05 a.\\xa0m.            34,340 1.3-langchain-simple-agent.ipynb\\r\\n09/09/2024  08:05 a.\\xa0m.           240,681 2.0-autogen-building-agents.ipynb\\r\\n09/09/2024  08:05 a.\\xa0m.            56,378 2.1-autogen-building-research-assistant.ipynb\\r\\n09/09/2024  08:05 a.\\xa0m.               882 3.0-langgraph-building-stateful-applications.ipynb\\r\\n09/09/2024  08:05 a.\\xa0m.            24,171 3.1-langgraph-buid-research-assistant.ipynb\\r\\n09/09/2024  08:05 a.\\xa0m.            51,484 4.0-rag-agent-langgraph.ipynb\\r\\n09/09/2024  08:05 a.\\xa0m.            98,267 4.1-autogen-multi-agent-workflows.ipynb\\r\\n09/09/2024  08:05 a.\\xa0m.            51,281 agentic-rag-langgraph.ipynb\\r\\n09/09/2024  08:05 a.\\xa0m.    <DIR>          assets-resources\\r\\n09/09/2024  08:05 a.\\xa0m.            18,744 Autogen Demo Notebook.ipynb\\r\\n09/09/2024  08:05 a.\\xa0m.            10,394 Tool Use.ipynb\\r\\n              13 archivos        640,212 bytes\\r\\n\\r\\n Directorio de c:\\\\Users\\\\Denys\\\\Downloads\\\\vidhya-agents-course-main\\\\notebooks\\\\assets-resources\\r\\n\\r\\n09/09/2024  08:05 a.\\xa0m.    <DIR>          .\\r\\n09/09/2024  08:05 a.\\xa0m.    <DIR>          ..\\r\\n09/09/2024  08:05 a.\\xa0m.    <DIR>          pdfs\\r\\n               0 archivos              0 bytes\\r\\n\\r\\n Directorio de c:\\\\Users\\\\Denys\\\\Downloads\\\\vidhya-agents-course-main\\\\notebooks\\\\assets-resources\\\\pdfs\\r\\n\\r\\n09/09/2024  08:05 a.\\xa0m.    <DIR>          .\\r\\n09/09/2024  08:05 a.\\xa0m.    <DIR>          ..\\r\\n09/09/2024  08:05 a.\\xa0m.         1,299,650 human-agent-collab-problem-solving.pdf\\r\\n09/09/2024  08:05 a.\\xa0m.         1,016,203 research-agent-idea-generation-loop.pdf\\r\\n               2 archivos      2,315,853 bytes\\r\\n\\r\\n     Total de archivos en la lista:\\r\\n              15 archivos      2,956,065 bytes\\r\\n               8 dirs  121,058,721,792 bytes libres\\r\\n'"
      ]
     },
     "execution_count": 21,
     "metadata": {},
     "output_type": "execute_result"
    }
   ],
   "source": [
    "import subprocess\n",
    "from langchain_core.tools import tool\n",
    "import platform\n",
    "\n",
    "\n",
    "@tool\n",
    "def list_files():\n",
    "    \"\"\"List files in current directory\"\"\"\n",
    "    os_name = platform.system()\n",
    "    if os_name=='Linux':\n",
    "        return subprocess.run([\"ls\"], stdout=subprocess.PIPE).stdout.decode(\"utf-8\")\n",
    "    if os_name=='Windows':\n",
    "        return subprocess.run(\"dir/s\".split(), stdout=subprocess.PIPE, shell=True).stdout.decode(\"cp850\")\n",
    "\n",
    "list_files.invoke({\"input\":\"\"})"
   ]
  },
  {
   "cell_type": "code",
   "execution_count": 22,
   "metadata": {},
   "outputs": [
    {
     "data": {
      "text/plain": [
       "RunnableBinding(bound=ChatOpenAI(client=<openai.resources.chat.completions.Completions object at 0x000002117B9AD8B0>, async_client=<openai.resources.chat.completions.AsyncCompletions object at 0x000002117B993940>, root_client=<openai.OpenAI object at 0x000002117B257CD0>, root_async_client=<openai.AsyncOpenAI object at 0x000002117B9AD910>, model_name='gpt-4o-mini', temperature=0.0, model_kwargs={}, openai_api_key=SecretStr('**********')), kwargs={'tools': [{'type': 'function', 'function': {'name': 'list_files', 'description': 'List files in current directory', 'parameters': {'properties': {}, 'type': 'object'}}}]}, config={}, config_factories=[])"
      ]
     },
     "execution_count": 22,
     "metadata": {},
     "output_type": "execute_result"
    }
   ],
   "source": [
    "llm_with_tool = llm.bind_tools([list_files])\n",
    "\n",
    "llm_with_tool"
   ]
  },
  {
   "cell_type": "code",
   "execution_count": 23,
   "metadata": {},
   "outputs": [
    {
     "data": {
      "text/plain": [
       "AIMessage(content='', additional_kwargs={'tool_calls': [{'id': 'call_AQ6MnaJwlIYpxLKmeYY3L6Kx', 'function': {'arguments': '{}', 'name': 'list_files'}, 'type': 'function'}], 'refusal': None}, response_metadata={'token_usage': {'completion_tokens': 10, 'prompt_tokens': 42, 'total_tokens': 52, 'completion_tokens_details': {'audio_tokens': None, 'reasoning_tokens': 0}, 'prompt_tokens_details': {'audio_tokens': None, 'cached_tokens': 0}}, 'model_name': 'gpt-4o-mini-2024-07-18', 'system_fingerprint': 'fp_8bfc6a7dc2', 'finish_reason': 'tool_calls', 'logprobs': None}, id='run-19c716fb-c7ee-4cb8-86e8-ba4049edbe2d-0', tool_calls=[{'name': 'list_files', 'args': {}, 'id': 'call_AQ6MnaJwlIYpxLKmeYY3L6Kx', 'type': 'tool_call'}], usage_metadata={'input_tokens': 42, 'output_tokens': 10, 'total_tokens': 52, 'input_token_details': {'cache_read': 0}, 'output_token_details': {'reasoning': 0}})"
      ]
     },
     "execution_count": 23,
     "metadata": {},
     "output_type": "execute_result"
    }
   ],
   "source": [
    "llm_with_tool.invoke(\"List files in current directory\")"
   ]
  },
  {
   "cell_type": "code",
   "execution_count": 24,
   "metadata": {},
   "outputs": [
    {
     "name": "stdout",
     "output_type": "stream",
     "text": [
      " El volumen de la unidad C es OS\n",
      " El número de serie del volumen es: CE4B-7E93\n",
      "\n",
      " Directorio de c:\\Users\\Denys\\Downloads\\vidhya-agents-course-main\\notebooks\n",
      "\n",
      "09/09/2024  08:05 a. m.    <DIR>          .\n",
      "09/09/2024  08:05 a. m.    <DIR>          ..\n",
      "10/30/2024  12:44 a. m.             9,120 1.0-langchain-basics.ipynb\n",
      "10/30/2024  12:43 a. m.            20,962 1.1-langchain-simple-chains.ipynb\n",
      "10/30/2024  12:50 a. m.            23,508 1.2-langchain-runnables-and-lcel.ipynb\n",
      "09/09/2024  08:05 a. m.            34,340 1.3-langchain-simple-agent.ipynb\n",
      "09/09/2024  08:05 a. m.           240,681 2.0-autogen-building-agents.ipynb\n",
      "09/09/2024  08:05 a. m.            56,378 2.1-autogen-building-research-assistant.ipynb\n",
      "09/09/2024  08:05 a. m.               882 3.0-langgraph-building-stateful-applications.ipynb\n",
      "09/09/2024  08:05 a. m.            24,171 3.1-langgraph-buid-research-assistant.ipynb\n",
      "09/09/2024  08:05 a. m.            51,484 4.0-rag-agent-langgraph.ipynb\n",
      "09/09/2024  08:05 a. m.            98,267 4.1-autogen-multi-agent-workflows.ipynb\n",
      "09/09/2024  08:05 a. m.            51,281 agentic-rag-langgraph.ipynb\n",
      "09/09/2024  08:05 a. m.    <DIR>          assets-resources\n",
      "09/09/2024  08:05 a. m.            18,744 Autogen Demo Notebook.ipynb\n",
      "09/09/2024  08:05 a. m.            10,394 Tool Use.ipynb\n",
      "              13 archivos        640,212 bytes\n",
      "\n",
      " Directorio de c:\\Users\\Denys\\Downloads\\vidhya-agents-course-main\\notebooks\\assets-resources\n",
      "\n",
      "09/09/2024  08:05 a. m.    <DIR>          .\n",
      "09/09/2024  08:05 a. m.    <DIR>          ..\n",
      "09/09/2024  08:05 a. m.    <DIR>          pdfs\n",
      "               0 archivos              0 bytes\n",
      "\n",
      " Directorio de c:\\Users\\Denys\\Downloads\\vidhya-agents-course-main\\notebooks\\assets-resources\\pdfs\n",
      "\n",
      "09/09/2024  08:05 a. m.    <DIR>          .\n",
      "09/09/2024  08:05 a. m.    <DIR>          ..\n",
      "09/09/2024  08:05 a. m.         1,299,650 human-agent-collab-problem-solving.pdf\n",
      "09/09/2024  08:05 a. m.         1,016,203 research-agent-idea-generation-loop.pdf\n",
      "               2 archivos      2,315,853 bytes\n",
      "\n",
      "     Total de archivos en la lista:\n",
      "              15 archivos      2,956,065 bytes\n",
      "               8 dirs  121,057,497,088 bytes libres\n",
      "\n"
     ]
    }
   ],
   "source": [
    "dictionary_with_tool_names = {\n",
    "    \"list_files\": list_files,\n",
    "}\n",
    "\n",
    "output = llm_with_tool.invoke(\"List files in current directory\")\n",
    "\n",
    "if output.tool_calls:\n",
    "    for tool_call in output.tool_calls:\n",
    "        tool_name = tool_call[\"name\"]\n",
    "        tool_args = tool_call['args']\n",
    "        tool_func = dictionary_with_tool_names[tool_name]\n",
    "        print(tool_func.invoke(tool_args))"
   ]
  },
  {
   "attachments": {},
   "cell_type": "markdown",
   "metadata": {},
   "source": [
    "Agent = LLM + tools"
   ]
  },
  {
   "cell_type": "code",
   "execution_count": 25,
   "metadata": {},
   "outputs": [],
   "source": [
    "from langchain.agents import create_tool_calling_agent, AgentExecutor"
   ]
  },
  {
   "cell_type": "code",
   "execution_count": 26,
   "metadata": {},
   "outputs": [],
   "source": [
    "tools = [list_files]\n",
    "\n",
    "agent = create_tool_calling_agent(llm, tools, prompt_agent)\n",
    "agent_executor = AgentExecutor(agent=agent, tools=tools, verbose=True)"
   ]
  },
  {
   "cell_type": "code",
   "execution_count": 27,
   "metadata": {},
   "outputs": [
    {
     "name": "stdout",
     "output_type": "stream",
     "text": [
      "\n",
      "\n",
      "\u001b[1m> Entering new AgentExecutor chain...\u001b[0m\n",
      "\u001b[32;1m\u001b[1;3m\n",
      "Invoking: `list_files` with `{}`\n",
      "\n",
      "\n",
      "\u001b[0m\u001b[36;1m\u001b[1;3m El volumen de la unidad C es OS\n",
      " El número de serie del volumen es: CE4B-7E93\n",
      "\n",
      " Directorio de c:\\Users\\Denys\\Downloads\\vidhya-agents-course-main\\notebooks\n",
      "\n",
      "09/09/2024  08:05 a. m.    <DIR>          .\n",
      "09/09/2024  08:05 a. m.    <DIR>          ..\n",
      "10/30/2024  12:44 a. m.             9,120 1.0-langchain-basics.ipynb\n",
      "10/30/2024  12:43 a. m.            20,962 1.1-langchain-simple-chains.ipynb\n",
      "10/30/2024  12:50 a. m.            23,508 1.2-langchain-runnables-and-lcel.ipynb\n",
      "09/09/2024  08:05 a. m.            34,340 1.3-langchain-simple-agent.ipynb\n",
      "09/09/2024  08:05 a. m.           240,681 2.0-autogen-building-agents.ipynb\n",
      "09/09/2024  08:05 a. m.            56,378 2.1-autogen-building-research-assistant.ipynb\n",
      "09/09/2024  08:05 a. m.               882 3.0-langgraph-building-stateful-applications.ipynb\n",
      "09/09/2024  08:05 a. m.            24,171 3.1-langgraph-buid-research-assistant.ipynb\n",
      "09/09/2024  08:05 a. m.            51,484 4.0-rag-agent-langgraph.ipynb\n",
      "09/09/2024  08:05 a. m.            98,267 4.1-autogen-multi-agent-workflows.ipynb\n",
      "09/09/2024  08:05 a. m.            51,281 agentic-rag-langgraph.ipynb\n",
      "09/09/2024  08:05 a. m.    <DIR>          assets-resources\n",
      "09/09/2024  08:05 a. m.            18,744 Autogen Demo Notebook.ipynb\n",
      "09/09/2024  08:05 a. m.            10,394 Tool Use.ipynb\n",
      "              13 archivos        640,212 bytes\n",
      "\n",
      " Directorio de c:\\Users\\Denys\\Downloads\\vidhya-agents-course-main\\notebooks\\assets-resources\n",
      "\n",
      "09/09/2024  08:05 a. m.    <DIR>          .\n",
      "09/09/2024  08:05 a. m.    <DIR>          ..\n",
      "09/09/2024  08:05 a. m.    <DIR>          pdfs\n",
      "               0 archivos              0 bytes\n",
      "\n",
      " Directorio de c:\\Users\\Denys\\Downloads\\vidhya-agents-course-main\\notebooks\\assets-resources\\pdfs\n",
      "\n",
      "09/09/2024  08:05 a. m.    <DIR>          .\n",
      "09/09/2024  08:05 a. m.    <DIR>          ..\n",
      "09/09/2024  08:05 a. m.         1,299,650 human-agent-collab-problem-solving.pdf\n",
      "09/09/2024  08:05 a. m.         1,016,203 research-agent-idea-generation-loop.pdf\n",
      "               2 archivos      2,315,853 bytes\n",
      "\n",
      "     Total de archivos en la lista:\n",
      "              15 archivos      2,956,065 bytes\n",
      "               8 dirs  121,056,591,872 bytes libres\n",
      "\u001b[0m\u001b[32;1m\u001b[1;3mHere are the files in the current directory (`c:\\Users\\Denys\\Downloads\\vidhya-agents-course-main\\notebooks`):\n",
      "\n",
      "1. **1.0-langchain-basics.ipynb** - 9,120 bytes\n",
      "2. **1.1-langchain-simple-chains.ipynb** - 20,962 bytes\n",
      "3. **1.2-langchain-runnables-and-lcel.ipynb** - 23,508 bytes\n",
      "4. **1.3-langchain-simple-agent.ipynb** - 34,340 bytes\n",
      "5. **2.0-autogen-building-agents.ipynb** - 240,681 bytes\n",
      "6. **2.1-autogen-building-research-assistant.ipynb** - 56,378 bytes\n",
      "7. **3.0-langgraph-building-stateful-applications.ipynb** - 882 bytes\n",
      "8. **3.1-langgraph-buid-research-assistant.ipynb** - 24,171 bytes\n",
      "9. **4.0-rag-agent-langgraph.ipynb** - 51,484 bytes\n",
      "10. **4.1-autogen-multi-agent-workflows.ipynb** - 98,267 bytes\n",
      "11. **agentic-rag-langgraph.ipynb** - 51,281 bytes\n",
      "12. **Autogen Demo Notebook.ipynb** - 18,744 bytes\n",
      "13. **Tool Use.ipynb** - 10,394 bytes\n",
      "\n",
      "Additionally, there is a directory named **assets-resources** which contains another directory **pdfs**. \n",
      "\n",
      "In the **pdfs** directory, the following files are present:\n",
      "\n",
      "1. **human-agent-collab-problem-solving.pdf** - 1,299,650 bytes\n",
      "2. **research-agent-idea-generation-loop.pdf** - 1,016,203 bytes\n",
      "\n",
      "In total, there are 15 files and 8 directories in this structure.\u001b[0m\n",
      "\n",
      "\u001b[1m> Finished chain.\u001b[0m\n"
     ]
    },
    {
     "data": {
      "text/plain": [
       "{'input': 'List files in current directory',\n",
       " 'output': 'Here are the files in the current directory (`c:\\\\Users\\\\Denys\\\\Downloads\\\\vidhya-agents-course-main\\\\notebooks`):\\n\\n1. **1.0-langchain-basics.ipynb** - 9,120 bytes\\n2. **1.1-langchain-simple-chains.ipynb** - 20,962 bytes\\n3. **1.2-langchain-runnables-and-lcel.ipynb** - 23,508 bytes\\n4. **1.3-langchain-simple-agent.ipynb** - 34,340 bytes\\n5. **2.0-autogen-building-agents.ipynb** - 240,681 bytes\\n6. **2.1-autogen-building-research-assistant.ipynb** - 56,378 bytes\\n7. **3.0-langgraph-building-stateful-applications.ipynb** - 882 bytes\\n8. **3.1-langgraph-buid-research-assistant.ipynb** - 24,171 bytes\\n9. **4.0-rag-agent-langgraph.ipynb** - 51,484 bytes\\n10. **4.1-autogen-multi-agent-workflows.ipynb** - 98,267 bytes\\n11. **agentic-rag-langgraph.ipynb** - 51,281 bytes\\n12. **Autogen Demo Notebook.ipynb** - 18,744 bytes\\n13. **Tool Use.ipynb** - 10,394 bytes\\n\\nAdditionally, there is a directory named **assets-resources** which contains another directory **pdfs**. \\n\\nIn the **pdfs** directory, the following files are present:\\n\\n1. **human-agent-collab-problem-solving.pdf** - 1,299,650 bytes\\n2. **research-agent-idea-generation-loop.pdf** - 1,016,203 bytes\\n\\nIn total, there are 15 files and 8 directories in this structure.'}"
      ]
     },
     "execution_count": 27,
     "metadata": {},
     "output_type": "execute_result"
    }
   ],
   "source": [
    "agent_executor.invoke({'input': \"List files in current directory\"})"
   ]
  },
  {
   "cell_type": "code",
   "execution_count": 28,
   "metadata": {},
   "outputs": [
    {
     "name": "stdout",
     "output_type": "stream",
     "text": [
      "\n",
      "\n",
      "\u001b[1m> Entering new AgentExecutor chain...\u001b[0m\n",
      "\u001b[32;1m\u001b[1;3m\n",
      "Invoking: `list_files` with `{}`\n",
      "\n",
      "\n",
      "\u001b[0m\u001b[36;1m\u001b[1;3m El volumen de la unidad C es OS\n",
      " El número de serie del volumen es: CE4B-7E93\n",
      "\n",
      " Directorio de c:\\Users\\Denys\\Downloads\\vidhya-agents-course-main\\notebooks\n",
      "\n",
      "09/09/2024  08:05 a. m.    <DIR>          .\n",
      "09/09/2024  08:05 a. m.    <DIR>          ..\n",
      "10/30/2024  12:44 a. m.             9,120 1.0-langchain-basics.ipynb\n",
      "10/30/2024  12:43 a. m.            20,962 1.1-langchain-simple-chains.ipynb\n",
      "10/30/2024  12:50 a. m.            23,508 1.2-langchain-runnables-and-lcel.ipynb\n",
      "09/09/2024  08:05 a. m.            34,340 1.3-langchain-simple-agent.ipynb\n",
      "09/09/2024  08:05 a. m.           240,681 2.0-autogen-building-agents.ipynb\n",
      "09/09/2024  08:05 a. m.            56,378 2.1-autogen-building-research-assistant.ipynb\n",
      "09/09/2024  08:05 a. m.               882 3.0-langgraph-building-stateful-applications.ipynb\n",
      "09/09/2024  08:05 a. m.            24,171 3.1-langgraph-buid-research-assistant.ipynb\n",
      "09/09/2024  08:05 a. m.            51,484 4.0-rag-agent-langgraph.ipynb\n",
      "09/09/2024  08:05 a. m.            98,267 4.1-autogen-multi-agent-workflows.ipynb\n",
      "09/09/2024  08:05 a. m.            51,281 agentic-rag-langgraph.ipynb\n",
      "09/09/2024  08:05 a. m.    <DIR>          assets-resources\n",
      "09/09/2024  08:05 a. m.            18,744 Autogen Demo Notebook.ipynb\n",
      "09/09/2024  08:05 a. m.            10,394 Tool Use.ipynb\n",
      "              13 archivos        640,212 bytes\n",
      "\n",
      " Directorio de c:\\Users\\Denys\\Downloads\\vidhya-agents-course-main\\notebooks\\assets-resources\n",
      "\n",
      "09/09/2024  08:05 a. m.    <DIR>          .\n",
      "09/09/2024  08:05 a. m.    <DIR>          ..\n",
      "09/09/2024  08:05 a. m.    <DIR>          pdfs\n",
      "               0 archivos              0 bytes\n",
      "\n",
      " Directorio de c:\\Users\\Denys\\Downloads\\vidhya-agents-course-main\\notebooks\\assets-resources\\pdfs\n",
      "\n",
      "09/09/2024  08:05 a. m.    <DIR>          .\n",
      "09/09/2024  08:05 a. m.    <DIR>          ..\n",
      "09/09/2024  08:05 a. m.         1,299,650 human-agent-collab-problem-solving.pdf\n",
      "09/09/2024  08:05 a. m.         1,016,203 research-agent-idea-generation-loop.pdf\n",
      "               2 archivos      2,315,853 bytes\n",
      "\n",
      "     Total de archivos en la lista:\n",
      "              15 archivos      2,956,065 bytes\n",
      "               8 dirs  121,056,591,872 bytes libres\n",
      "\u001b[0m\u001b[32;1m\u001b[1;3mIn the current directory, there are several Jupyter Notebook files and a couple of directories. Here’s a summary of the files:\n",
      "\n",
      "### Jupyter Notebook Files:\n",
      "1. **1.0-langchain-basics.ipynb** - 9,120 bytes\n",
      "2. **1.1-langchain-simple-chains.ipynb** - 20,962 bytes\n",
      "3. **1.2-langchain-runnables-and-lcel.ipynb** - 23,508 bytes\n",
      "4. **1.3-langchain-simple-agent.ipynb** - 34,340 bytes\n",
      "5. **2.0-autogen-building-agents.ipynb** - 240,681 bytes\n",
      "6. **2.1-autogen-building-research-assistant.ipynb** - 56,378 bytes\n",
      "7. **3.0-langgraph-building-stateful-applications.ipynb** - 882 bytes\n",
      "8. **3.1-langgraph-buid-research-assistant.ipynb** - 24,171 bytes\n",
      "9. **4.0-rag-agent-langgraph.ipynb** - 51,484 bytes\n",
      "10. **4.1-autogen-multi-agent-workflows.ipynb** - 98,267 bytes\n",
      "11. **agentic-rag-langgraph.ipynb** - 51,281 bytes\n",
      "12. **Autogen Demo Notebook.ipynb** - 18,744 bytes\n",
      "13. **Tool Use.ipynb** - 10,394 bytes\n",
      "\n",
      "### Directories:\n",
      "- **assets-resources** (contains additional resources)\n",
      "  - **pdfs** (contains PDF files)\n",
      "\n",
      "### PDF Files in the `pdfs` Directory:\n",
      "1. **human-agent-collab-problem-solving.pdf** - 1,299,650 bytes\n",
      "2. **research-agent-idea-generation-loop.pdf** - 1,016,203 bytes\n",
      "\n",
      "In total, there are 15 files and 8 directories in this directory.\u001b[0m\n",
      "\n",
      "\u001b[1m> Finished chain.\u001b[0m\n"
     ]
    },
    {
     "data": {
      "text/plain": [
       "{'input': 'What kind of files are in the current directory?',\n",
       " 'output': 'In the current directory, there are several Jupyter Notebook files and a couple of directories. Here’s a summary of the files:\\n\\n### Jupyter Notebook Files:\\n1. **1.0-langchain-basics.ipynb** - 9,120 bytes\\n2. **1.1-langchain-simple-chains.ipynb** - 20,962 bytes\\n3. **1.2-langchain-runnables-and-lcel.ipynb** - 23,508 bytes\\n4. **1.3-langchain-simple-agent.ipynb** - 34,340 bytes\\n5. **2.0-autogen-building-agents.ipynb** - 240,681 bytes\\n6. **2.1-autogen-building-research-assistant.ipynb** - 56,378 bytes\\n7. **3.0-langgraph-building-stateful-applications.ipynb** - 882 bytes\\n8. **3.1-langgraph-buid-research-assistant.ipynb** - 24,171 bytes\\n9. **4.0-rag-agent-langgraph.ipynb** - 51,484 bytes\\n10. **4.1-autogen-multi-agent-workflows.ipynb** - 98,267 bytes\\n11. **agentic-rag-langgraph.ipynb** - 51,281 bytes\\n12. **Autogen Demo Notebook.ipynb** - 18,744 bytes\\n13. **Tool Use.ipynb** - 10,394 bytes\\n\\n### Directories:\\n- **assets-resources** (contains additional resources)\\n  - **pdfs** (contains PDF files)\\n\\n### PDF Files in the `pdfs` Directory:\\n1. **human-agent-collab-problem-solving.pdf** - 1,299,650 bytes\\n2. **research-agent-idea-generation-loop.pdf** - 1,016,203 bytes\\n\\nIn total, there are 15 files and 8 directories in this directory.'}"
      ]
     },
     "execution_count": 28,
     "metadata": {},
     "output_type": "execute_result"
    }
   ],
   "source": [
    "agent_executor.invoke({'input': \"What kind of files are in the current directory?\"})"
   ]
  },
  {
   "cell_type": "code",
   "execution_count": 29,
   "metadata": {},
   "outputs": [],
   "source": [
    "import os\n",
    "\n",
    "os.environ[\"TAVILY_API_KEY\"] = 'API_KEY'"
   ]
  },
  {
   "cell_type": "code",
   "execution_count": 37,
   "metadata": {},
   "outputs": [],
   "source": [
    "!pip install -qU langchain_community tavily-python"
   ]
  },
  {
   "cell_type": "code",
   "execution_count": 43,
   "metadata": {},
   "outputs": [],
   "source": [
    "from langchain_community.tools.tavily_search.tool import TavilySearchResults"
   ]
  },
  {
   "cell_type": "code",
   "execution_count": 44,
   "metadata": {},
   "outputs": [
    {
     "data": {
      "text/plain": [
       "[{'url': 'https://www.britannica.com/facts/Paris',\n",
       "  'content': 'Paris is the capital of France, located in the north-central part of the country. It is a major centre of commerce, culture, and tourism, with famous landmarks such as the Eiffel Tower, the Louvre Museum, and Notre-Dame de Paris.'},\n",
       " {'url': 'https://simple.wikipedia.org/wiki/Paris',\n",
       "  'content': 'Events[change | change source]\\nRelated pages[change | change source]\\nReferences[change | change source]\\nOther websites[change | change source]\\nAmsterdam, Netherlands\\xa0·\\nAthens, Greece\\xa0·\\nBerlin, Germany\\xa0·\\nBratislava, Slovakia\\xa0·\\nBrussels, Belgium\\xa0·\\nBucharest, Romania\\xa0·\\nBudapest, Hungary\\xa0·\\nCopenhagen, Denmark\\xa0·\\nDublin, Republic of Ireland\\xa0·\\nHelsinki, Finland\\xa0·\\nLisbon, Portugal\\xa0·\\nLjubljana, Slovenia\\xa0·\\nLuxembourg City, Luxembourg\\xa0·\\nMadrid, Spain\\xa0·\\nNicosia, Cyprus1\\xa0·\\nParis, France\\xa0·\\nPrague, Czech Republic\\xa0·\\nRiga, Latvia\\xa0·\\nRome, Italy\\xa0·\\nSofia, Bulgaria\\xa0·\\nStockholm, Sweden\\xa0·\\nTallinn, Estonia\\xa0·\\nValletta, Malta\\xa0·\\nVienna, Austria\\xa0·\\nVilnius, Lithuania\\xa0·\\nWarsaw, Poland\\xa0·\\nZagreb, Croatia\\nAndorra la Vella, Andorra\\xa0·\\nAnkara, Turkey1\\xa0·\\nBelgrade, Serbia\\xa0·\\nBern, Switzerland\\xa0·\\nChişinău, Moldova\\xa0·\\nKyiv, Ukraine\\xa0·\\nLondon, United Kingdom\\xa0·\\nMinsk, Belarus\\xa0·\\nMonaco-Ville, Monaco\\xa0·\\nMoscow, Russia1\\xa0·\\nOslo, Norway\\xa0·\\nPodgorica, Montenegro\\xa0·\\nReykjavík, Iceland\\xa0·\\nSan Marino, San Marino\\xa0·\\nSarajevo, Bosnia Herzegovina\\xa0·\\nSkopje, North Macedonia\\xa0·\\nTbilisi, Georgia1\\xa0·\\nTirana, Albania\\xa0· The place got a shorter name, \"Paris\", in 212 AD.[7]\\nAs the Roman Empire began to fall apart in the West, the Germanic tribe called the Franks moved in, taking it in 464. Also, the city has been featured in many songs including the #1 hit song by Jay-Z and Kanye West called \"Niggas in Paris\".[8]\\nClimate[change | change source]\\nParis has an oceanic climate in the Köppen climate classification. Contents\\nParis\\nParis (nicknamed the \"City of light\") is the capital city of France, and the largest city in France. For a long time, the kings only controlled Paris and the surrounding area, as much of the rest of France was in the hands of barons or English.'},\n",
       " {'url': 'https://www.worldatlas.com/articles/what-is-the-capital-of-france.html',\n",
       "  'content': 'Geography and Climate\\nLocated in the north of Central France, the city is relatively flat with the highest point being 427 feet (which is Montmartre) above sea level while the lowest point is 115 feet above the sea level. Even the official residence of the president is in the city at the Élysée Palace while the Prime Minister is housed at the Hôtel Matignon. Sometimes, the city is called the City of Light for two reasons; it was among the first cities to adopt gas for lighting the streets and its role during the Age of Enlightenment.\\n The Senate or the upper house meets at the Palais du Luxembourg while the Palais Bourbon is the meeting point for the Assemblée Nationale. Others include the likes of the National Museum of Natural History, the Centre Pompidou, the Basilique du Sacré-Cœur, the Eiffel Tower, and many more.\\n'},\n",
       " {'url': 'https://www.britannica.com/place/France',\n",
       "  'content': 'Even though its imperialist stage was driven by the impulse to civilize that world according to French standards (la mission civilisatrice), the French still note approvingly the words of writer Gustave Flaubert:\\nI am no more modern than I am ancient, no more French than Chinese; and the idea of la patrie, the fatherland—that is, the obligation to live on a bit of earth coloured red or blue on a map, and to detest the other bits coloured green or black—has always seemed to me narrow, restricted, and ferociously stupid.\\n Among France’s other major cities are Lyon, located along an ancient Rhône valley trade route linking the North Sea and the Mediterranean; Marseille, a multiethnic port on the Mediterranean founded as an entrepôt for Greek and Carthaginian traders in the 6th century bce; Nantes, an industrial centre and deepwater harbour along the Atlantic coast; and Bordeaux, located in southwestern France along the Garonne River. A majestic city known as the ville lumière, or “city of light,” Paris has often been remade, most famously in the mid-19th century under the command of Georges-Eugène, Baron Haussman, who was committed to Napoleon III’s vision of a modern city free of the choleric swamps and congested alleys of old, with broad avenues and a regular plan. Metropolitan Paris has now extended far beyond its ancient suburbs into the countryside, however, and nearly every French town and village now numbers a retiree or two driven from the city by the high cost of living, so that, in a sense, Paris has come to embrace the desert and the desert Paris.\\n France has also been influential in government and civil affairs, giving the world important democratic ideals in the age of the Enlightenment and the French Revolution and inspiring the growth of reformist and even revolutionary movements for generations.'},\n",
       " {'url': 'https://theworldcountries.com/place/paris/',\n",
       "  'content': 'Learn about the history, geography, culture, and attractions of Paris, the city and capital of France. Find out why Paris is called the City of Light and explore its landmarks, museums, and parks.'}]"
      ]
     },
     "execution_count": 44,
     "metadata": {},
     "output_type": "execute_result"
    }
   ],
   "source": [
    "search_tool = TavilySearchResults(\n",
    "    max_results = 5,\n",
    "    search_depth=\"advanced\",\n",
    "    include_answer=True,\n",
    ")\n",
    "\n",
    "search_tool.invoke('What is the capital of France?')"
   ]
  },
  {
   "cell_type": "code",
   "execution_count": 45,
   "metadata": {},
   "outputs": [],
   "source": [
    "@tool\n",
    "def create_file(file_path: str, content: str):\n",
    "    \"\"\"Create a file with the given content\"\"\"\n",
    "    with open(file_path, 'w') as f:\n",
    "        f.write(content)\n",
    "    return f\"File created at {file_path} with content: {content}\"\n",
    "\n",
    "tools = [create_file, search_tool]"
   ]
  },
  {
   "cell_type": "code",
   "execution_count": 46,
   "metadata": {},
   "outputs": [
    {
     "data": {
      "text/plain": [
       "AgentExecutor(verbose=True, agent=RunnableMultiActionAgent(runnable=RunnableAssign(mapper={\n",
       "  agent_scratchpad: RunnableLambda(lambda x: message_formatter(x['intermediate_steps']))\n",
       "})\n",
       "| ChatPromptTemplate(input_variables=['agent_scratchpad', 'input'], optional_variables=['chat_history'], input_types={'chat_history': list[typing.Annotated[typing.Union[typing.Annotated[langchain_core.messages.ai.AIMessage, Tag(tag='ai')], typing.Annotated[langchain_core.messages.human.HumanMessage, Tag(tag='human')], typing.Annotated[langchain_core.messages.chat.ChatMessage, Tag(tag='chat')], typing.Annotated[langchain_core.messages.system.SystemMessage, Tag(tag='system')], typing.Annotated[langchain_core.messages.function.FunctionMessage, Tag(tag='function')], typing.Annotated[langchain_core.messages.tool.ToolMessage, Tag(tag='tool')], typing.Annotated[langchain_core.messages.ai.AIMessageChunk, Tag(tag='AIMessageChunk')], typing.Annotated[langchain_core.messages.human.HumanMessageChunk, Tag(tag='HumanMessageChunk')], typing.Annotated[langchain_core.messages.chat.ChatMessageChunk, Tag(tag='ChatMessageChunk')], typing.Annotated[langchain_core.messages.system.SystemMessageChunk, Tag(tag='SystemMessageChunk')], typing.Annotated[langchain_core.messages.function.FunctionMessageChunk, Tag(tag='FunctionMessageChunk')], typing.Annotated[langchain_core.messages.tool.ToolMessageChunk, Tag(tag='ToolMessageChunk')]], FieldInfo(annotation=NoneType, required=True, discriminator=Discriminator(discriminator=<function _get_type at 0x0000021176C16670>, custom_error_type=None, custom_error_message=None, custom_error_context=None))]], 'agent_scratchpad': list[typing.Annotated[typing.Union[typing.Annotated[langchain_core.messages.ai.AIMessage, Tag(tag='ai')], typing.Annotated[langchain_core.messages.human.HumanMessage, Tag(tag='human')], typing.Annotated[langchain_core.messages.chat.ChatMessage, Tag(tag='chat')], typing.Annotated[langchain_core.messages.system.SystemMessage, Tag(tag='system')], typing.Annotated[langchain_core.messages.function.FunctionMessage, Tag(tag='function')], typing.Annotated[langchain_core.messages.tool.ToolMessage, Tag(tag='tool')], typing.Annotated[langchain_core.messages.ai.AIMessageChunk, Tag(tag='AIMessageChunk')], typing.Annotated[langchain_core.messages.human.HumanMessageChunk, Tag(tag='HumanMessageChunk')], typing.Annotated[langchain_core.messages.chat.ChatMessageChunk, Tag(tag='ChatMessageChunk')], typing.Annotated[langchain_core.messages.system.SystemMessageChunk, Tag(tag='SystemMessageChunk')], typing.Annotated[langchain_core.messages.function.FunctionMessageChunk, Tag(tag='FunctionMessageChunk')], typing.Annotated[langchain_core.messages.tool.ToolMessageChunk, Tag(tag='ToolMessageChunk')]], FieldInfo(annotation=NoneType, required=True, discriminator=Discriminator(discriminator=<function _get_type at 0x0000021176C16670>, custom_error_type=None, custom_error_message=None, custom_error_context=None))]]}, partial_variables={'chat_history': []}, metadata={'lc_hub_owner': 'hwchase17', 'lc_hub_repo': 'openai-tools-agent', 'lc_hub_commit_hash': 'c18672812789a3b9697656dd539edf0120285dcae36396d0b548ae42a4ed66f5'}, messages=[SystemMessagePromptTemplate(prompt=PromptTemplate(input_variables=[], input_types={}, partial_variables={}, template='You are a helpful assistant'), additional_kwargs={}), MessagesPlaceholder(variable_name='chat_history', optional=True), HumanMessagePromptTemplate(prompt=PromptTemplate(input_variables=['input'], input_types={}, partial_variables={}, template='{input}'), additional_kwargs={}), MessagesPlaceholder(variable_name='agent_scratchpad')])\n",
       "| RunnableBinding(bound=ChatOpenAI(client=<openai.resources.chat.completions.Completions object at 0x000002117B9AD8B0>, async_client=<openai.resources.chat.completions.AsyncCompletions object at 0x000002117B993940>, root_client=<openai.OpenAI object at 0x000002117B257CD0>, root_async_client=<openai.AsyncOpenAI object at 0x000002117B9AD910>, model_name='gpt-4o-mini', temperature=0.0, model_kwargs={}, openai_api_key=SecretStr('**********')), kwargs={'tools': [{'type': 'function', 'function': {'name': 'create_file', 'description': 'Create a file with the given content', 'parameters': {'properties': {'file_path': {'type': 'string'}, 'content': {'type': 'string'}}, 'required': ['file_path', 'content'], 'type': 'object'}}}, {'type': 'function', 'function': {'name': 'tavily_search_results_json', 'description': 'A search engine optimized for comprehensive, accurate, and trusted results. Useful for when you need to answer questions about current events. Input should be a search query.', 'parameters': {'properties': {'query': {'description': 'search query to look up', 'type': 'string'}}, 'required': ['query'], 'type': 'object'}}}]}, config={}, config_factories=[])\n",
       "| ToolsAgentOutputParser(), input_keys_arg=[], return_keys_arg=[], stream_runnable=True), tools=[StructuredTool(name='create_file', description='Create a file with the given content', args_schema=<class 'langchain_core.utils.pydantic.create_file'>, func=<function create_file at 0x000002117F5ECA60>), TavilySearchResults(include_answer=True, api_wrapper=TavilySearchAPIWrapper(tavily_api_key=SecretStr('**********')))])"
      ]
     },
     "execution_count": 46,
     "metadata": {},
     "output_type": "execute_result"
    }
   ],
   "source": [
    "simple_research_agent = create_tool_calling_agent(llm, tools, prompt_agent)\n",
    "\n",
    "simple_research_agent_executor = AgentExecutor(agent=simple_research_agent, tools=tools, verbose=True)\n",
    "\n",
    "simple_research_agent_executor\n"
   ]
  },
  {
   "cell_type": "code",
   "execution_count": 47,
   "metadata": {},
   "outputs": [
    {
     "name": "stdout",
     "output_type": "stream",
     "text": [
      "\n",
      "\n",
      "\u001b[1m> Entering new AgentExecutor chain...\u001b[0m\n",
      "\u001b[32;1m\u001b[1;3m\n",
      "Invoking: `tavily_search_results_json` with `{'query': 'Paris Olympics 2024 highlights'}`\n",
      "\n",
      "\n",
      "\u001b[0m\u001b[33;1m\u001b[1;3m[{'url': 'https://olympics.com/en/paris-2024/videos/list', 'content': 'From basketball to tennis, discover the full list of videos of the Paris 2024 Olympic Games (Jul 26-Aug 11, 2024). ... Experience the excitement of the Paris 2024 Games with daily sports highlights that capture the most thrilling moments from each day of competition. Relive iconic victories, unforgettable performances, and the intensity of the'}, {'url': 'https://www.forbes.com/sites/jackmagruder/2024/08/14/the-10-most-incredible-highlights-from-the-2024-paris-olympics/', 'content': 'Explore the 10 most incredible highlights from the 2024 Paris Olympics, including record-breaking moments and inspiring athletes. Subscribe To Newsletters. BETA. THIS IS A BETA EXPERIENCE.'}, {'url': 'https://olympics.com/en/paris-2024/videos/list/highlights', 'content': \"Watch the latest highlights from Paris 2024 and find out who is making headlines at the Summer Olympics (Jul 26-Aug 11, 2024). ... Handball | Olympic Games Paris 2024. The Men's Handball Gold Medal Match took place on 11/08/2024 at Pierre Mauroy Stadium, Paris. Denmark claimed the Gold with a decisive 39:26 win against Germany.\"}, {'url': 'https://www.youtube.com/playlist?list=PLyIUuPts9_V2zwF2vnbNal5vCNB3tLwC4', 'content': '🏅 **Welcome to the 2024 Olympics Highlights Playlist!** 🏅 Dive into the most exciting moments, key games, and standout performances from the Paris 2024 Summe'}, {'url': 'https://olympics.com/en/olympic-games/paris-2024/videos', 'content': \"Exclusive. Summary of the Games | Olympic Games Paris 2024. Watch video footage of medal-winning performances from Paris 2024. See the world's greatest athletes make Olympic history.\"}]\u001b[0m\u001b[32;1m\u001b[1;3m\n",
      "Invoking: `create_file` with `{'file_path': 'report-olympics-2024.md', 'content': \"# Highlights of the Paris Olympics 2024\\n\\nThe Paris Olympics 2024, scheduled from July 26 to August 11, 2024, promises to be a spectacular event showcasing the world's top athletes. Here are the main highlights expected from the Games:\\n\\n## Key Dates and Events\\n- **Opening Ceremony**: July 26, 2024\\n- **Closing Ceremony**: August 11, 2024\\n\\n## Notable Sports and Competitions\\n- **Basketball**: Anticipated thrilling matches featuring top international teams.\\n- **Tennis**: High-stakes matches with elite players competing for gold.\\n- **Handball**: Denmark's men's team is expected to defend their title after a strong performance in previous tournaments.\\n\\n## Record-Breaking Moments\\n- The Games are expected to feature numerous record-breaking performances, with athletes aiming to surpass previous Olympic records.\\n\\n## Inspiring Athletes\\n- The event will highlight inspiring stories of athletes overcoming challenges to compete at the highest level.\\n\\n## Cultural Significance\\n- The Paris Olympics will not only focus on sports but also celebrate French culture and heritage, making it a unique experience for attendees and viewers worldwide.\\n\\n## Conclusion\\nThe Paris Olympics 2024 is set to be a historic event filled with excitement, competition, and unforgettable moments. Stay tuned for daily highlights and updates as the Games unfold.\"}`\n",
      "\n",
      "\n",
      "\u001b[0m\u001b[36;1m\u001b[1;3mFile created at report-olympics-2024.md with content: # Highlights of the Paris Olympics 2024\n",
      "\n",
      "The Paris Olympics 2024, scheduled from July 26 to August 11, 2024, promises to be a spectacular event showcasing the world's top athletes. Here are the main highlights expected from the Games:\n",
      "\n",
      "## Key Dates and Events\n",
      "- **Opening Ceremony**: July 26, 2024\n",
      "- **Closing Ceremony**: August 11, 2024\n",
      "\n",
      "## Notable Sports and Competitions\n",
      "- **Basketball**: Anticipated thrilling matches featuring top international teams.\n",
      "- **Tennis**: High-stakes matches with elite players competing for gold.\n",
      "- **Handball**: Denmark's men's team is expected to defend their title after a strong performance in previous tournaments.\n",
      "\n",
      "## Record-Breaking Moments\n",
      "- The Games are expected to feature numerous record-breaking performances, with athletes aiming to surpass previous Olympic records.\n",
      "\n",
      "## Inspiring Athletes\n",
      "- The event will highlight inspiring stories of athletes overcoming challenges to compete at the highest level.\n",
      "\n",
      "## Cultural Significance\n",
      "- The Paris Olympics will not only focus on sports but also celebrate French culture and heritage, making it a unique experience for attendees and viewers worldwide.\n",
      "\n",
      "## Conclusion\n",
      "The Paris Olympics 2024 is set to be a historic event filled with excitement, competition, and unforgettable moments. Stay tuned for daily highlights and updates as the Games unfold.\u001b[0m\u001b[32;1m\u001b[1;3mThe report on the highlights of the Paris Olympics 2024 has been successfully created and saved as `report-olympics-2024.md`. If you need any further assistance or modifications, feel free to ask!\u001b[0m\n",
      "\n",
      "\u001b[1m> Finished chain.\u001b[0m\n"
     ]
    },
    {
     "data": {
      "text/markdown": [
       "The report on the highlights of the Paris Olympics 2024 has been successfully created and saved as `report-olympics-2024.md`. If you need any further assistance or modifications, feel free to ask!"
      ],
      "text/plain": [
       "<IPython.core.display.Markdown object>"
      ]
     },
     "execution_count": 47,
     "metadata": {},
     "output_type": "execute_result"
    }
   ],
   "source": [
    "from IPython.display import Markdown\n",
    "output_report = simple_research_agent_executor.invoke({'input': 'Write a summarized report about the main highlights of the Paris Olympics 2024 and save it locally as report-olympics-2024.md'})\n",
    "\n",
    "Markdown(output_report['output'])"
   ]
  },
  {
   "cell_type": "code",
   "execution_count": 48,
   "metadata": {},
   "outputs": [
    {
     "data": {
      "text/markdown": [
       "# Highlights of the Paris Olympics 2024\n",
       "\n",
       "The Paris Olympics 2024, scheduled from July 26 to August 11, 2024, promises to be a spectacular event showcasing the world's top athletes. Here are the main highlights expected from the Games:\n",
       "\n",
       "## Key Dates and Events\n",
       "- **Opening Ceremony**: July 26, 2024\n",
       "- **Closing Ceremony**: August 11, 2024\n",
       "\n",
       "## Notable Sports and Competitions\n",
       "- **Basketball**: Anticipated thrilling matches featuring top international teams.\n",
       "- **Tennis**: High-stakes matches with elite players competing for gold.\n",
       "- **Handball**: Denmark's men's team is expected to defend their title after a strong performance in previous tournaments.\n",
       "\n",
       "## Record-Breaking Moments\n",
       "- The Games are expected to feature numerous record-breaking performances, with athletes aiming to surpass previous Olympic records.\n",
       "\n",
       "## Inspiring Athletes\n",
       "- The event will highlight inspiring stories of athletes overcoming challenges to compete at the highest level.\n",
       "\n",
       "## Cultural Significance\n",
       "- The Paris Olympics will not only focus on sports but also celebrate French culture and heritage, making it a unique experience for attendees and viewers worldwide.\n",
       "\n",
       "## Conclusion\n",
       "The Paris Olympics 2024 is set to be a historic event filled with excitement, competition, and unforgettable moments. Stay tuned for daily highlights and updates as the Games unfold."
      ],
      "text/plain": [
       "<IPython.core.display.Markdown object>"
      ]
     },
     "execution_count": 48,
     "metadata": {},
     "output_type": "execute_result"
    }
   ],
   "source": [
    "with open('report-olympics-2024.md', 'r') as f:\n",
    "    content_report = f.read()\n",
    "    \n",
    "Markdown(content_report)"
   ]
  }
 ],
 "metadata": {
  "kernelspec": {
   "display_name": "gpt",
   "language": "python",
   "name": "python3"
  },
  "language_info": {
   "codemirror_mode": {
    "name": "ipython",
    "version": 3
   },
   "file_extension": ".py",
   "mimetype": "text/x-python",
   "name": "python",
   "nbconvert_exporter": "python",
   "pygments_lexer": "ipython3",
   "version": "3.9.19"
  }
 },
 "nbformat": 4,
 "nbformat_minor": 2
}
