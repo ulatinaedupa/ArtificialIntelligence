{
 "cells": [
  {
   "attachments": {},
   "cell_type": "markdown",
   "metadata": {},
   "source": [
    "3 basic components:\n",
    "\n",
    "1. Model - abstractions over the LLMs apis\n",
    "2. Prompt Template - abstraction over the prompt sent to the model\n",
    "3. Output parser - abstraction to translate raw output from the model to workable format"
   ]
  },
  {
   "cell_type": "code",
   "execution_count": 2,
   "metadata": {},
   "outputs": [],
   "source": [
    "!pip install -qU langchain langchain-openai langchain-core"
   ]
  },
  {
   "cell_type": "code",
   "execution_count": 3,
   "metadata": {},
   "outputs": [],
   "source": [
    "import os\n",
    "\n",
    "os.environ['OPENAI_API_KEY'] = 'API_KEY'"
   ]
  },
  {
   "cell_type": "code",
   "execution_count": 4,
   "metadata": {},
   "outputs": [],
   "source": [
    "from langchain_openai import ChatOpenAI"
   ]
  },
  {
   "cell_type": "code",
   "execution_count": 5,
   "metadata": {},
   "outputs": [
    {
     "data": {
      "text/plain": [
       "AIMessage(content='Certainly! Here are some of the basic components of LangChain:\\n\\n- **LLMs (Large Language Models)**: These are the core models used for generating and processing natural language text. They can be fine-tuned for specific tasks.\\n\\n- **Chains**: These are sequences of calls to LLMs or other tools that process input data step-by-step. Chains can be simple (one model) or complex (multiple models and tools).\\n\\n- **Agents**: These are components that make decisions about which actions to take based on the input they receive. Agents can use LLMs to determine the best next step in a process.\\n\\n- **Tools**: These are external functions or APIs that agents can call to perform specific tasks, such as retrieving data, making calculations, or interacting with other services.\\n\\n- **Memory**: This feature allows the system to remember information from past interactions, enabling more coherent and contextually aware conversations.\\n\\n- **Document Loaders**: These components help in ingesting and processing documents (e.g., PDFs, text files) for further analysis or input to LLMs.\\n\\n- **Prompts**: These are templates or structures for the input provided to LLMs, which guide the model in generating the desired output.\\n\\nThese components work together to create flexible and powerful applications leveraging natural language processing capabilities.', additional_kwargs={'refusal': None}, response_metadata={'token_usage': {'completion_tokens': 268, 'prompt_tokens': 35, 'total_tokens': 303, 'completion_tokens_details': {'audio_tokens': None, 'reasoning_tokens': 0}, 'prompt_tokens_details': {'audio_tokens': None, 'cached_tokens': 0}}, 'model_name': 'gpt-4o-mini-2024-07-18', 'system_fingerprint': 'fp_f59a81427f', 'finish_reason': 'stop', 'logprobs': None}, id='run-4cd6a95c-7cb9-42e9-a4de-2ad6b8b10616-0', usage_metadata={'input_tokens': 35, 'output_tokens': 268, 'total_tokens': 303, 'input_token_details': {'cache_read': 0}, 'output_token_details': {'reasoning': 0}})"
      ]
     },
     "execution_count": 5,
     "metadata": {},
     "output_type": "execute_result"
    }
   ],
   "source": [
    "llm = ChatOpenAI(model='gpt-4o-mini')\n",
    "\n",
    "llm.invoke(\"Hi! I am teaching about langcahin! What are some of the basic components in LangChain? Answer with a few bullet points.\")"
   ]
  },
  {
   "cell_type": "code",
   "execution_count": 6,
   "metadata": {},
   "outputs": [],
   "source": [
    "from langchain_core.prompts import ChatPromptTemplate"
   ]
  },
  {
   "cell_type": "code",
   "execution_count": 7,
   "metadata": {},
   "outputs": [
    {
     "data": {
      "text/plain": [
       "'Human: Give me 5 examples of: basic components in LangChain'"
      ]
     },
     "execution_count": 7,
     "metadata": {},
     "output_type": "execute_result"
    }
   ],
   "source": [
    "prompt = ChatPromptTemplate.from_template(\"Give me 5 examples of: {thing_to_give_examples_of}\")\n",
    "\n",
    "prompt.format(thing_to_give_examples_of=\"basic components in LangChain\")"
   ]
  },
  {
   "cell_type": "code",
   "execution_count": 9,
   "metadata": {},
   "outputs": [],
   "source": [
    "basic_chain = prompt | llm"
   ]
  },
  {
   "cell_type": "code",
   "execution_count": 10,
   "metadata": {},
   "outputs": [
    {
     "data": {
      "text/plain": [
       "AIMessage(content=\"LangChain is a framework designed for developing applications powered by language models. Here are five basic components commonly found in LangChain:\\n\\n1. **LLMs (Language Model Models)**: These are the core components responsible for generating text based on input prompts. They can be instantiated from various language models, such as OpenAI's GPT, Hugging Face transformers, or other LLM providers.\\n\\n2. **Chains**: Chains are sequences of operations that combine multiple components, such as LLMs, prompts, and memory. They allow you to build complex workflows that process input and generate output in a structured manner.\\n\\n3. **Prompts**: These are templates or formatted strings used to guide the LLM's responses. Prompts can be simple or complex and are essential for controlling the behavior of the language model.\\n\\n4. **Agents**: Agents are components that utilize LLMs to make decisions about which actions to take based on user input. They can interact with various tools, APIs, or databases to fulfill user requests and provide more dynamic responses.\\n\\n5. **Memory**: Memory components allow applications to maintain context over multiple interactions. This can be used to remember past conversations or user preferences, enabling more personalized and coherent interactions with the LLM.\\n\\nThese components work together to create powerful applications that leverage the capabilities of language models in various ways.\", additional_kwargs={'refusal': None}, response_metadata={'token_usage': {'completion_tokens': 270, 'prompt_tokens': 19, 'total_tokens': 289, 'completion_tokens_details': {'audio_tokens': None, 'reasoning_tokens': 0}, 'prompt_tokens_details': {'audio_tokens': None, 'cached_tokens': 0}}, 'model_name': 'gpt-4o-mini-2024-07-18', 'system_fingerprint': 'fp_f59a81427f', 'finish_reason': 'stop', 'logprobs': None}, id='run-5dbf1ecb-81dd-4604-90ed-f7e9170626ec-0', usage_metadata={'input_tokens': 19, 'output_tokens': 270, 'total_tokens': 289, 'input_token_details': {'cache_read': 0}, 'output_token_details': {'reasoning': 0}})"
      ]
     },
     "execution_count": 10,
     "metadata": {},
     "output_type": "execute_result"
    }
   ],
   "source": [
    "basic_chain.invoke({\"thing_to_give_examples_of\": \"basic components in LangChain\"})"
   ]
  },
  {
   "cell_type": "code",
   "execution_count": 11,
   "metadata": {},
   "outputs": [],
   "source": [
    "from langchain_core.output_parsers import StrOutputParser"
   ]
  },
  {
   "cell_type": "code",
   "execution_count": 12,
   "metadata": {},
   "outputs": [
    {
     "data": {
      "text/plain": [
       "\"Here are five examples of funny animals, known for their amusing behaviors or appearances:\\n\\n1. **Capybara**: The world's largest rodent, capybaras are often seen lounging around in groups, looking relaxed and almost like they're smiling. Their calm demeanor and social nature make them a favorite in funny animal videos.\\n\\n2. **Pika**: These small, mountain-dwelling mammals are known for their adorable squeaks and round faces. Their energetic behavior, especially when they gather food and scurry around, often leads to comical moments.\\n\\n3. **Sloth**: Famous for their slow movements and unique facial expressions, sloths often appear to be in a perpetual state of relaxation. Their leisurely lifestyle and awkward climbing skills can be quite amusing.\\n\\n4. **Penguins**: With their waddling walk and tuxedo-like appearance, penguins are inherently funny animals. Their social interactions, especially during courtship and parenting, often lead to humorous situations.\\n\\n5. **Goats**: Known for their playful and sometimes mischievous behavior, goats can be quite entertaining. From jumping on things to their funny vocalizations (especially fainting goats), they often provide a good laugh.\\n\\nThese animals are not only cute but also exhibit behaviors that can make anyone smile!\""
      ]
     },
     "execution_count": 12,
     "metadata": {},
     "output_type": "execute_result"
    }
   ],
   "source": [
    "output_parser = StrOutputParser()\n",
    "\n",
    "complete_chain = prompt | llm | output_parser\n",
    "\n",
    "complete_chain.invoke({'thing_to_give_examples_of': 'Funny animals'})"
   ]
  }
 ],
 "metadata": {
  "kernelspec": {
   "display_name": "genai",
   "language": "python",
   "name": "python3"
  },
  "language_info": {
   "codemirror_mode": {
    "name": "ipython",
    "version": 3
   },
   "file_extension": ".py",
   "mimetype": "text/x-python",
   "name": "python",
   "nbconvert_exporter": "python",
   "pygments_lexer": "ipython3",
   "version": "3.9.19"
  }
 },
 "nbformat": 4,
 "nbformat_minor": 2
}
