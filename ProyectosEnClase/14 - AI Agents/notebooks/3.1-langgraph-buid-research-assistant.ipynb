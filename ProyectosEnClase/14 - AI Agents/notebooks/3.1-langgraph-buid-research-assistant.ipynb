{
 "cells": [
  {
   "cell_type": "code",
   "execution_count": 3,
   "metadata": {},
   "outputs": [],
   "source": [
    "from langgraph.graph import StateGraph, MessagesState, START, END\n",
    "from langchain_openai import ChatOpenAI\n",
    "from langgraph.prebuilt import ToolNode\n",
    "from langchain_community.tools import TavilySearchResults\n",
    "from IPython.display import Image"
   ]
  },
  {
   "cell_type": "code",
   "execution_count": null,
   "metadata": {},
   "outputs": [],
   "source": [
    "from dotenv import load_dotenv\n",
    "import os\n",
    "\n",
    "load_dotenv()\n",
    "os.environ.get('OPENAI_API_KEY')"
   ]
  },
  {
   "cell_type": "code",
   "execution_count": 5,
   "metadata": {},
   "outputs": [],
   "source": [
    "llm = ChatOpenAI(model='gpt-4o-mini', temperature=0)"
   ]
  },
  {
   "cell_type": "code",
   "execution_count": 6,
   "metadata": {},
   "outputs": [],
   "source": [
    "def should_continue(state: MessagesState) -> bool:\n",
    "    messages = state['messages']\n",
    "    last_message = messages[-1]\n",
    "    if last_message.tool_calls:\n",
    "        return 'tools'\n",
    "    else:\n",
    "        return END\n",
    "\n"
   ]
  },
  {
   "cell_type": "code",
   "execution_count": 7,
   "metadata": {},
   "outputs": [],
   "source": [
    "def call_model(state: MessagesState):\n",
    "    messages  = state['messages']\n",
    "    response = llm.invoke(messages)\n",
    "    \n",
    "    return {'messages': messages + [response]}"
   ]
  },
  {
   "cell_type": "code",
   "execution_count": 8,
   "metadata": {},
   "outputs": [],
   "source": [
    "graph = StateGraph(MessagesState)"
   ]
  },
  {
   "cell_type": "code",
   "execution_count": 9,
   "metadata": {},
   "outputs": [
    {
     "data": {
      "text/plain": [
       "<langgraph.graph.state.StateGraph at 0x1fbe3034ee0>"
      ]
     },
     "execution_count": 9,
     "metadata": {},
     "output_type": "execute_result"
    }
   ],
   "source": [
    "graph.add_node('agent', call_model)"
   ]
  },
  {
   "cell_type": "code",
   "execution_count": 10,
   "metadata": {},
   "outputs": [],
   "source": [
    "search_tool = TavilySearchResults(max_results=5)"
   ]
  },
  {
   "cell_type": "code",
   "execution_count": 11,
   "metadata": {},
   "outputs": [
    {
     "data": {
      "text/plain": [
       "<langgraph.graph.state.StateGraph at 0x1fbe3034ee0>"
      ]
     },
     "execution_count": 11,
     "metadata": {},
     "output_type": "execute_result"
    }
   ],
   "source": [
    "tools = [search_tool]\n",
    "\n",
    "tool_node = ToolNode(tools)\n",
    "\n",
    "graph.add_node('tools', tool_node)"
   ]
  },
  {
   "cell_type": "code",
   "execution_count": 12,
   "metadata": {},
   "outputs": [
    {
     "data": {
      "text/plain": [
       "<langgraph.graph.state.StateGraph at 0x1fbe3034ee0>"
      ]
     },
     "execution_count": 12,
     "metadata": {},
     "output_type": "execute_result"
    }
   ],
   "source": [
    "# This means that the first node is the agent\n",
    "# similar to setting graph.set_entry_point('agent')\n",
    "graph.add_edge(START, \"agent\")"
   ]
  },
  {
   "cell_type": "code",
   "execution_count": 13,
   "metadata": {},
   "outputs": [
    {
     "data": {
      "text/plain": [
       "<langgraph.graph.state.StateGraph at 0x1fbe3034ee0>"
      ]
     },
     "execution_count": 13,
     "metadata": {},
     "output_type": "execute_result"
    }
   ],
   "source": [
    "graph.add_conditional_edges('agent', should_continue)"
   ]
  },
  {
   "cell_type": "code",
   "execution_count": 14,
   "metadata": {},
   "outputs": [
    {
     "data": {
      "text/plain": [
       "<langgraph.graph.state.StateGraph at 0x1fbe3034ee0>"
      ]
     },
     "execution_count": 14,
     "metadata": {},
     "output_type": "execute_result"
    }
   ],
   "source": [
    "graph.add_edge('tools', 'agent')"
   ]
  },
  {
   "cell_type": "code",
   "execution_count": 15,
   "metadata": {},
   "outputs": [],
   "source": [
    "graph_compiled = graph.compile()"
   ]
  },
  {
   "cell_type": "code",
   "execution_count": 16,
   "metadata": {},
   "outputs": [
    {
     "data": {
      "image/jpeg": "[encoded data removed]",
      "text/plain": [
       "<IPython.core.display.Image object>"
      ]
     },
     "execution_count": 16,
     "metadata": {},
     "output_type": "execute_result"
    }
   ],
   "source": [
    "Image(graph_compiled.get_graph().draw_mermaid_png())"
   ]
  },
  {
   "cell_type": "code",
   "execution_count": 17,
   "metadata": {},
   "outputs": [
    {
     "data": {
      "text/plain": [
       "{'messages': [HumanMessage(content='Write a simple report on how to use AI for productivity.', additional_kwargs={}, response_metadata={}, id='e18fa745-98c0-472c-9ca6-ae7df53aa32e'),\n",
       "  AIMessage(content='# Report on Using AI for Productivity\\n\\n## Introduction\\nArtificial Intelligence (AI) has emerged as a transformative tool in various sectors, enhancing productivity and efficiency. This report outlines practical ways to leverage AI for improving productivity in personal and professional settings.\\n\\n## 1. Task Automation\\nAI can automate repetitive tasks, allowing individuals and teams to focus on more strategic activities. Common applications include:\\n\\n- **Email Management**: AI tools can sort, prioritize, and respond to emails, reducing the time spent on inbox management.\\n- **Scheduling**: AI-powered scheduling assistants can coordinate meetings by finding suitable times for all participants, eliminating back-and-forth communication.\\n\\n## 2. Data Analysis\\nAI excels at processing and analyzing large datasets quickly. This capability can be utilized in various ways:\\n\\n- **Business Intelligence**: AI tools can analyze sales data, customer behavior, and market trends to provide actionable insights, helping businesses make informed decisions.\\n- **Predictive Analytics**: AI can forecast future trends based on historical data, enabling proactive planning and resource allocation.\\n\\n## 3. Enhanced Communication\\nAI can improve communication within teams and with clients:\\n\\n- **Chatbots**: Implementing AI chatbots on websites or customer service platforms can provide instant responses to common inquiries, improving customer satisfaction and freeing up human agents for complex issues.\\n- **Language Translation**: AI translation tools can facilitate communication in multilingual environments, making it easier to collaborate with international teams.\\n\\n## 4. Personal Productivity Tools\\nAI-driven personal productivity applications can help individuals manage their time and tasks more effectively:\\n\\n- **Smart To-Do Lists**: AI can prioritize tasks based on deadlines, importance, and user behavior, ensuring that critical tasks are completed on time.\\n- **Focus Assistants**: AI tools can analyze work patterns and suggest optimal times for focused work, minimizing distractions and enhancing concentration.\\n\\n## 5. Learning and Development\\nAI can support continuous learning and skill development:\\n\\n- **Personalized Learning**: AI platforms can tailor educational content to individual learning styles and paces, making training more effective.\\n- **Skill Assessment**: AI can evaluate skills and recommend resources for improvement, helping employees stay relevant in a rapidly changing job market.\\n\\n## Conclusion\\nIntegrating AI into daily workflows can significantly enhance productivity by automating tasks, improving data analysis, facilitating communication, and supporting personal development. As AI technology continues to evolve, its potential to drive efficiency and effectiveness in various domains will only increase. Organizations and individuals should explore and adopt AI tools that align with their specific needs to maximize productivity gains.\\n\\n## Recommendations\\n- **Identify Repetitive Tasks**: Assess daily activities to identify tasks that can be automated using AI.\\n- **Invest in AI Tools**: Research and invest in AI applications that suit your personal or organizational needs.\\n- **Train Employees**: Provide training on how to effectively use AI tools to ensure maximum benefit.\\n- **Monitor and Adjust**: Regularly evaluate the impact of AI on productivity and make adjustments as necessary to optimize performance.', additional_kwargs={'refusal': None}, response_metadata={'token_usage': {'completion_tokens': 604, 'prompt_tokens': 19, 'total_tokens': 623, 'completion_tokens_details': {'audio_tokens': None, 'reasoning_tokens': 0}, 'prompt_tokens_details': {'audio_tokens': None, 'cached_tokens': 0}}, 'model_name': 'gpt-4o-mini-2024-07-18', 'system_fingerprint': 'fp_0ba0d124f1', 'finish_reason': 'stop', 'logprobs': None}, id='run-681ff3f7-ae97-4a3e-9f5b-4e8fdde076e3-0', usage_metadata={'input_tokens': 19, 'output_tokens': 604, 'total_tokens': 623, 'input_token_details': {'cache_read': 0}, 'output_token_details': {'reasoning': 0}})]}"
      ]
     },
     "execution_count": 17,
     "metadata": {},
     "output_type": "execute_result"
    }
   ],
   "source": [
    "output = graph_compiled.invoke({'messages': [\n",
    "    ('user', 'Write a simple report on how to use AI for productivity.')\n",
    "]})\n",
    "\n",
    "output"
   ]
  },
  {
   "cell_type": "code",
   "execution_count": 18,
   "metadata": {},
   "outputs": [
    {
     "data": {
      "text/markdown": [
       "# Report on Using AI for Productivity\n",
       "\n",
       "## Introduction\n",
       "Artificial Intelligence (AI) has emerged as a transformative tool in various sectors, enhancing productivity and efficiency. This report outlines practical ways to leverage AI for improving productivity in personal and professional settings.\n",
       "\n",
       "## 1. Task Automation\n",
       "AI can automate repetitive tasks, allowing individuals and teams to focus on more strategic activities. Common applications include:\n",
       "\n",
       "- **Email Management**: AI tools can sort, prioritize, and respond to emails, reducing the time spent on inbox management.\n",
       "- **Scheduling**: AI-powered scheduling assistants can coordinate meetings by finding suitable times for all participants, eliminating back-and-forth communication.\n",
       "\n",
       "## 2. Data Analysis\n",
       "AI excels at processing and analyzing large datasets quickly. This capability can be utilized in various ways:\n",
       "\n",
       "- **Business Intelligence**: AI tools can analyze sales data, customer behavior, and market trends to provide actionable insights, helping businesses make informed decisions.\n",
       "- **Predictive Analytics**: AI can forecast future trends based on historical data, enabling proactive planning and resource allocation.\n",
       "\n",
       "## 3. Enhanced Communication\n",
       "AI can improve communication within teams and with clients:\n",
       "\n",
       "- **Chatbots**: Implementing AI chatbots on websites or customer service platforms can provide instant responses to common inquiries, improving customer satisfaction and freeing up human agents for complex issues.\n",
       "- **Language Translation**: AI translation tools can facilitate communication in multilingual environments, making it easier to collaborate with international teams.\n",
       "\n",
       "## 4. Personal Productivity Tools\n",
       "AI-driven personal productivity applications can help individuals manage their time and tasks more effectively:\n",
       "\n",
       "- **Smart To-Do Lists**: AI can prioritize tasks based on deadlines, importance, and user behavior, ensuring that critical tasks are completed on time.\n",
       "- **Focus Assistants**: AI tools can analyze work patterns and suggest optimal times for focused work, minimizing distractions and enhancing concentration.\n",
       "\n",
       "## 5. Learning and Development\n",
       "AI can support continuous learning and skill development:\n",
       "\n",
       "- **Personalized Learning**: AI platforms can tailor educational content to individual learning styles and paces, making training more effective.\n",
       "- **Skill Assessment**: AI can evaluate skills and recommend resources for improvement, helping employees stay relevant in a rapidly changing job market.\n",
       "\n",
       "## Conclusion\n",
       "Integrating AI into daily workflows can significantly enhance productivity by automating tasks, improving data analysis, facilitating communication, and supporting personal development. As AI technology continues to evolve, its potential to drive efficiency and effectiveness in various domains will only increase. Organizations and individuals should explore and adopt AI tools that align with their specific needs to maximize productivity gains.\n",
       "\n",
       "## Recommendations\n",
       "- **Identify Repetitive Tasks**: Assess daily activities to identify tasks that can be automated using AI.\n",
       "- **Invest in AI Tools**: Research and invest in AI applications that suit your personal or organizational needs.\n",
       "- **Train Employees**: Provide training on how to effectively use AI tools to ensure maximum benefit.\n",
       "- **Monitor and Adjust**: Regularly evaluate the impact of AI on productivity and make adjustments as necessary to optimize performance."
      ],
      "text/plain": [
       "<IPython.core.display.Markdown object>"
      ]
     },
     "execution_count": 18,
     "metadata": {},
     "output_type": "execute_result"
    }
   ],
   "source": [
    "from IPython.display import Markdown\n",
    "\n",
    "Markdown(output['messages'][-1].content)"
   ]
  }
 ],
 "metadata": {
  "kernelspec": {
   "display_name": "gpt",
   "language": "python",
   "name": "python3"
  },
  "language_info": {
   "codemirror_mode": {
    "name": "ipython",
    "version": 3
   },
   "file_extension": ".py",
   "mimetype": "text/x-python",
   "name": "python",
   "nbconvert_exporter": "python",
   "pygments_lexer": "ipython3",
   "version": "3.9.19"
  }
 },
 "nbformat": 4,
 "nbformat_minor": 2
}
