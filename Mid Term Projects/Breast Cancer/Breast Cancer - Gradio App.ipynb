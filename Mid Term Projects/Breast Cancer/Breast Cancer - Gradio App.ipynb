{
 "cells": [
  {
   "cell_type": "code",
   "execution_count": 2,
   "id": "45971fbb",
   "metadata": {},
   "outputs": [],
   "source": [
    "import gradio as gr\n",
    "import keras\n",
    "import numpy as np"
   ]
  },
  {
   "cell_type": "code",
   "execution_count": 4,
   "id": "8ca1d341",
   "metadata": {},
   "outputs": [],
   "source": [
    "def f1(y_true, y_pred):\n",
    "    y_pred = K.round(y_pred)\n",
    "    # Calculate true positives, true negatives, false positives and false negatives\n",
    "    tp = K.sum(K.cast(y_true*y_pred, 'float'), axis=0)\n",
    "    tn = K.sum(K.cast((1-y_true)*(1-y_pred), 'float'), axis=0)\n",
    "    fp = K.sum(K.cast((1-y_true)*y_pred, 'float'), axis=0)\n",
    "    fn = K.sum(K.cast(y_true*(1-y_pred), 'float'), axis=0)\n",
    "\n",
    "    # Calculate precision and recall\n",
    "    # Adding epsilon (small value) to combat potential division by 0\n",
    "    p = tp / (tp + fp + K.epsilon())\n",
    "    r = tp / (tp + fn + K.epsilon())\n",
    "\n",
    "    # Calculate F1\n",
    "    f1 = 2*p*r / (p+r+K.epsilon())\n",
    "    f1 = tf.where(tf.math.is_nan(f1), tf.zeros_like(f1), f1)\n",
    "    return K.mean(f1)"
   ]
  },
  {
   "cell_type": "code",
   "execution_count": 5,
   "id": "534cbf7f",
   "metadata": {},
   "outputs": [],
   "source": [
    "model_tuned = keras.models.load_model('breast_cancer_effnet_tuned.h5', custom_objects={'f1':f1})\n",
    "labels = ['No Cancer', 'Breast Cancer']"
   ]
  },
  {
   "cell_type": "code",
   "execution_count": 6,
   "id": "a4adf50b",
   "metadata": {},
   "outputs": [],
   "source": [
    "def predict(inp):\n",
    "        image = np.expand_dims(inp, 0)\n",
    "        pred = model_tuned(image)\n",
    "        prediction = np.squeeze(pred)\n",
    "        confidences = {labels[1*(prediction > 0.5)]: float(prediction)}\n",
    "        return confidences"
   ]
  },
  {
   "cell_type": "code",
   "execution_count": 7,
   "id": "ecc980f5",
   "metadata": {},
   "outputs": [
    {
     "name": "stderr",
     "output_type": "stream",
     "text": [
      "C:\\Users\\Denys\\AppData\\Local\\Temp\\ipykernel_25676\\4258672949.py:2: GradioDeprecationWarning: Usage of gradio.inputs is deprecated, and will not be supported in the future, please import your component from gradio.components\n",
      "  inputs=gr.inputs.Image(type=\"pil\"),\n",
      "C:\\Users\\Denys\\AppData\\Local\\Temp\\ipykernel_25676\\4258672949.py:2: GradioDeprecationWarning: `optional` parameter is deprecated, and it has no effect\n",
      "  inputs=gr.inputs.Image(type=\"pil\"),\n",
      "C:\\Users\\Denys\\AppData\\Local\\Temp\\ipykernel_25676\\4258672949.py:3: GradioDeprecationWarning: Usage of gradio.outputs is deprecated, and will not be supported in the future, please import your components from gradio.components\n",
      "  outputs=gr.outputs.Label(num_top_classes=2),\n",
      "C:\\Users\\Denys\\AppData\\Local\\Temp\\ipykernel_25676\\4258672949.py:3: GradioUnusedKwargWarning: You have unused kwarg parameters in Label, please remove them: {'type': 'auto'}\n",
      "  outputs=gr.outputs.Label(num_top_classes=2),\n"
     ]
    }
   ],
   "source": [
    "demo = gr.Interface(fn=predict, \n",
    "             inputs=gr.inputs.Image(type=\"pil\"),\n",
    "             outputs=gr.outputs.Label(num_top_classes=2),\n",
    "             examples=[[\"example/batch_sample_0.png\", \"example/batch_sample_1.png\"]],\n",
    "             )"
   ]
  },
  {
   "cell_type": "code",
   "execution_count": 8,
   "id": "d3baca7e",
   "metadata": {},
   "outputs": [
    {
     "name": "stdout",
     "output_type": "stream",
     "text": [
      "Running on local URL:  http://127.0.0.1:7860\n",
      "\n",
      "To create a public link, set `share=True` in `launch()`.\n"
     ]
    },
    {
     "data": {
      "text/html": [
       "<div><iframe src=\"http://127.0.0.1:7860/\" width=\"100%\" height=\"500\" allow=\"autoplay; camera; microphone; clipboard-read; clipboard-write;\" frameborder=\"0\" allowfullscreen></iframe></div>"
      ],
      "text/plain": [
       "<IPython.core.display.HTML object>"
      ]
     },
     "metadata": {},
     "output_type": "display_data"
    },
    {
     "data": {
      "text/plain": []
     },
     "execution_count": 8,
     "metadata": {},
     "output_type": "execute_result"
    }
   ],
   "source": [
    "demo.launch()"
   ]
  }
 ],
 "metadata": {
  "kernelspec": {
   "display_name": "Python 3 (ipykernel)",
   "language": "python",
   "name": "python3"
  },
  "language_info": {
   "codemirror_mode": {
    "name": "ipython",
    "version": 3
   },
   "file_extension": ".py",
   "mimetype": "text/x-python",
   "name": "python",
   "nbconvert_exporter": "python",
   "pygments_lexer": "ipython3",
   "version": "3.9.16"
  }
 },
 "nbformat": 4,
 "nbformat_minor": 5
}
